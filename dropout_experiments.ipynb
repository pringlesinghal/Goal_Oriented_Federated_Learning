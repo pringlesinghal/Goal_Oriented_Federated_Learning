{
  "cells": [
    {
      "cell_type": "code",
      "source": [
        "from google.colab import drive\n",
        "drive.mount('/content/gdrive')\n",
        "%cd gdrive/MyDrive/AAU_Project/Goal_Oriented_Federated_Learning/"
      ],
      "metadata": {
        "colab": {
          "base_uri": "https://localhost:8080/"
        },
        "id": "XcYaHflrxIME",
        "outputId": "28866463-b6bc-45ff-ee11-10a3310bf510"
      },
      "execution_count": 1,
      "outputs": [
        {
          "output_type": "stream",
          "name": "stdout",
          "text": [
            "Drive already mounted at /content/gdrive; to attempt to forcibly remount, call drive.mount(\"/content/gdrive\", force_remount=True).\n",
            "/content/gdrive/MyDrive/AAU_Project/Goal_Oriented_Federated_Learning\n"
          ]
        }
      ]
    },
    {
      "cell_type": "code",
      "source": [
        "!pip install wandb -qU"
      ],
      "metadata": {
        "id": "x_nYPxaB_KDJ"
      },
      "execution_count": 2,
      "outputs": []
    },
    {
      "cell_type": "code",
      "source": [
        "# imports\n",
        "import wandb\n",
        "\n",
        "wandb.login()\n",
        "\n",
        "import torch\n",
        "import torch.nn as nn\n",
        "import torch.optim as optim\n",
        "\n",
        "import numpy as np\n",
        "import matplotlib.pyplot as plt\n",
        "import seaborn as sns\n",
        "\n",
        "from copy import deepcopy\n",
        "from tqdm import tqdm\n",
        "from itertools import chain, combinations\n",
        "from math import comb\n",
        "import pickle\n",
        "import os\n",
        "\n",
        "from data_preprocess import (\n",
        "    load_mnist_flat,\n",
        "    load_cifar10,\n",
        "    NIIDClientSplit,\n",
        "    synthetic_samples,\n",
        ")\n",
        "from model import NN, CNN\n",
        "from dshap import convergenceTest"
      ],
      "metadata": {
        "colab": {
          "base_uri": "https://localhost:8080/"
        },
        "id": "KBKQ0g27xDol",
        "outputId": "f3b542eb-e07e-4ab8-b636-df7e6fa5ace2"
      },
      "execution_count": 3,
      "outputs": [
        {
          "output_type": "stream",
          "name": "stderr",
          "text": [
            "\u001b[34m\u001b[1mwandb\u001b[0m: Currently logged in as: \u001b[33mpringlesinghal\u001b[0m. Use \u001b[1m`wandb login --relogin`\u001b[0m to force relogin\n"
          ]
        }
      ]
    },
    {
      "cell_type": "code",
      "source": [
        "os.makedirs(\"./processed_data/mnist/\", exist_ok=True)\n",
        "os.makedirs(\"./processed_data/cifar10/\", exist_ok=True)\n",
        "os.makedirs(\"./processed_data/mnist_flat/\", exist_ok=True)\n",
        "os.makedirs(\"./processed_data/cifar10_flat/\", exist_ok=True)\n",
        "\n",
        "# global variables\n",
        "wandb_config = {}\n",
        "device = torch.device(\"cuda\" if torch.cuda.is_available() else \"cpu\")\n",
        "# device = \"meta\"\n",
        "wandb_config[\"device\"] = device\n"
      ],
      "metadata": {
        "id": "CwIwwWP6_biP"
      },
      "execution_count": 4,
      "outputs": []
    },
    {
      "cell_type": "markdown",
      "source": [
        "## Client"
      ],
      "metadata": {
        "id": "jf7VcRAH_cmn"
      }
    },
    {
      "cell_type": "code",
      "source": [
        "class Client:\n",
        "    def __init__(self, data, targets, device):\n",
        "        self.data = data.to(device)\n",
        "        self.targets = targets.to(device)\n",
        "        self.device = device\n",
        "        self.length = len(self.data)\n",
        "\n",
        "    def train(self, serverModel, criterion, E, B, learning_rate, momentum):\n",
        "        \"\"\"\n",
        "        serverModel - server model\n",
        "        criterion - loss function (model, data, targets)\n",
        "        E - number of epochs\n",
        "        B - number of batches\n",
        "\n",
        "        returns clientModel.state_dict() after training\n",
        "        \"\"\"\n",
        "        clientModel = deepcopy(serverModel)\n",
        "        clientModel = clientModel.to(self.device)\n",
        "        clientModel.load_state_dict(serverModel.state_dict())\n",
        "        clientOptimiser = optim.SGD(\n",
        "            clientModel.parameters(), lr=learning_rate, momentum=momentum\n",
        "        )\n",
        "\n",
        "        for epoch in range(E):\n",
        "            batch_indices = self.split_indices(B)\n",
        "            for batch in range(B):\n",
        "                data_batch, targets_batch = self.get_subset(batch_indices[batch])\n",
        "                clientOptimiser.zero_grad()\n",
        "                loss = criterion(clientModel, data_batch, targets_batch)\n",
        "                loss.backward()\n",
        "                clientOptimiser.step()\n",
        "\n",
        "        self.model = clientModel\n",
        "        return clientModel.state_dict()\n",
        "\n",
        "    def loss(self, model, criterion):\n",
        "        \"\"\"\n",
        "        criterion - loss function (model, data, targets)\n",
        "        \"\"\"\n",
        "        model.eval()\n",
        "        with torch.no_grad():\n",
        "            loss = criterion(model, self.data, self.targets)\n",
        "        model.train()\n",
        "        return float(loss.cpu())\n",
        "\n",
        "    def accuracy(self):\n",
        "        return self.accuracy_(self.model)\n",
        "\n",
        "    def accuracy_(self, model):\n",
        "        \"\"\"\n",
        "        evaluate model accuracy on client's training data\n",
        "        \"\"\"\n",
        "        model.eval()\n",
        "        with torch.no_grad():\n",
        "            scores = model(self.data)\n",
        "            _, predictions = scores.max(1)\n",
        "            num_correct = torch.sum(predictions == self.targets)\n",
        "            total = self.length\n",
        "            accuracy = num_correct / total\n",
        "        model.train()\n",
        "        return float(accuracy.cpu())\n",
        "\n",
        "    def get_subset(self, indices):\n",
        "        \"\"\"\n",
        "        return a subset of client data and targets with the given indices\n",
        "        \"\"\"\n",
        "        data_raw = [self.data[j] for j in indices]\n",
        "        targets_raw = [int(self.targets[j]) for j in indices]\n",
        "        # prepare data and targets for training\n",
        "        data = torch.stack(data_raw, 0).to(device=self.device).to(torch.float32)\n",
        "        targets = torch.tensor(targets_raw).to(device=self.device)\n",
        "        return data, targets\n",
        "\n",
        "    def split_indices(self, B):\n",
        "        \"\"\"\n",
        "        return a list of indices for B batches\n",
        "        \"\"\"\n",
        "        length = self.length\n",
        "        indices = list(range(length))\n",
        "        np.random.shuffle(indices)\n",
        "        k = int(np.floor(length / B))\n",
        "        # drops the last few datapoints, if needed, to keep batch size fixed\n",
        "        return [indices[i : i + k] for i in range(0, len(indices), k)]\n",
        "\n",
        "\n"
      ],
      "metadata": {
        "id": "0zT2HZ8f_IKj"
      },
      "execution_count": 5,
      "outputs": []
    },
    {
      "cell_type": "markdown",
      "source": [
        "## Server"
      ],
      "metadata": {
        "id": "fHnc4UXz_Xo5"
      }
    },
    {
      "cell_type": "code",
      "source": [
        "class Server:\n",
        "    def __init__(self, model, val_data, val_targets, test_data, test_targets, device):\n",
        "        self.model = deepcopy(model).to(device)\n",
        "        self.val_data = val_data.to(device=device)\n",
        "        self.val_targets = val_targets.to(device=device)\n",
        "        self.test_data = test_data.to(device=device)\n",
        "        self.test_targets = test_targets.to(device=device)\n",
        "        self.length = len(test_data)\n",
        "        self.device = device\n",
        "\n",
        "        # to keep track of the number of model validation loss evaluations for shapley algorithms\n",
        "        self.model_evaluations = 0\n",
        "    def aggregate(self, client_states, weights=None):\n",
        "        \"\"\"\n",
        "        client_states - list of client states\n",
        "        weights - weights for averaging (uniform by default)\n",
        "\n",
        "        updates server model by performing weighted averaging\n",
        "        \"\"\"\n",
        "        model = self.aggregate_(client_states, weights)\n",
        "        self.model.load_state_dict(model.state_dict())\n",
        "\n",
        "    def aggregate_(self, client_states, weights=None):\n",
        "        \"\"\"\n",
        "        does not modify the server model\n",
        "        only returns the updated model\n",
        "        \"\"\"\n",
        "        if weights is None:\n",
        "            # uniform weights by default\n",
        "            weights = [1 / len(client_states)] * len(client_states)\n",
        "        weights = np.array(weights)\n",
        "        wtsum = np.sum(weights)\n",
        "        weights = weights / wtsum  # normalize weights\n",
        "        # initialise model parameters to zero\n",
        "        model_state = self.model.state_dict()\n",
        "        for key in model_state.keys():\n",
        "            model_state[key] -= model_state[key]\n",
        "        # find updated model - weighted averaging\n",
        "        for idx, client_state in enumerate(client_states):\n",
        "            for key in model_state.keys():\n",
        "                model_state[key] += weights[idx] * client_state[key]\n",
        "        model = deepcopy(self.model).to(device=self.device)\n",
        "        model.load_state_dict(model_state)\n",
        "        return model\n",
        "\n",
        "    def shapley_values_mc(self, criterion, client_states, weights=None):\n",
        "        \"\"\"\n",
        "        client_states - list of client states\n",
        "        weights - weights for averaging (uniform by default)\n",
        "\n",
        "        computes shapley values for the client updates on validation dataset\n",
        "        \"\"\"\n",
        "        self.model_evaluations = 0\n",
        "        if weights is None:\n",
        "            # uniform weights by default\n",
        "            weights = [1 / len(client_states)] * len(client_states)\n",
        "        weights = np.array(weights)\n",
        "        wtsum = np.sum(weights)\n",
        "        weights = weights / wtsum  # normalize weights\n",
        "\n",
        "        num_clients = len(client_states)\n",
        "        T = 100\n",
        "\n",
        "        shapley_values = [[0] for i in range(num_clients)]\n",
        "\n",
        "        for idx in range(num_clients):\n",
        "            # compute shapley value of idx client\n",
        "            \"\"\"\n",
        "            until convergence:\n",
        "                sample a subset size k\n",
        "                sample subset of size k of clients (except idx)\n",
        "                compute updated model with this subset of clients\n",
        "                compute loss of updated model on validation set\n",
        "                compute another updated model with the idx client included\n",
        "                compute loss of updated model on validation set\n",
        "                compute difference between losses of the two models\n",
        "                average losses over subsets to compute the shapley value of idx client\n",
        "            \"\"\"\n",
        "            t = 0\n",
        "            converged = False\n",
        "            remaining_clients = [i for i in range(num_clients) if i != idx]\n",
        "            while t < T:\n",
        "                subset_size = np.random.choice(list(range(num_clients - 1)), size=1)[0]\n",
        "                subset = np.random.choice(\n",
        "                    remaining_clients, size=subset_size, replace=False\n",
        "                )\n",
        "                client_states_subset = [client_states[i] for i in subset]\n",
        "                weights_subset = [weights[i] for i in subset]\n",
        "                model_subset = self.aggregate_(client_states_subset, weights_subset)\n",
        "                loss_subset = self.val_loss(model_subset, criterion)\n",
        "                value_subset = 1- loss_subset\n",
        "\n",
        "                client_states_subset.append(client_states[idx])\n",
        "                weights_subset.append(weights[idx])\n",
        "                model_subset_with_idx = self.aggregate_(\n",
        "                    client_states_subset, weights_subset\n",
        "                )\n",
        "                loss_subset_with_idx = self.val_loss(model_subset_with_idx, criterion)\n",
        "                value_subset_with_idx = 1 - loss_subset_with_idx\n",
        "\n",
        "                utility_gain = value_subset_with_idx - value_subset\n",
        "                prev_avg = shapley_values[idx][-1]\n",
        "                new_avg = (t * prev_avg + utility_gain) / (t + 1)\n",
        "                shapley_values[idx].append(new_avg)\n",
        "                if convergenceTest(shapley_values[idx]):\n",
        "                    converged = True\n",
        "                t += 1\n",
        "        if converged == False:\n",
        "          print('SV not converged in MC')\n",
        "        final_shapley_values = [shapley_values[i][-1] for i in range(num_clients)]\n",
        "        return final_shapley_values\n",
        "\n",
        "    def shapley_values_tmc(self, criterion, client_states, weights=None):\n",
        "        \"\"\"\n",
        "        client_states - list of client states\n",
        "        weights - weights for averaging (uniform by default)\n",
        "\n",
        "        computes shapley values for the client updates on validation dataset\n",
        "        \"\"\"\n",
        "        self.model_evaluations = 0\n",
        "        if weights is None:\n",
        "            # uniform weights by default\n",
        "            weights = [1 / len(client_states)] * len(client_states)\n",
        "        weights = np.array(weights)\n",
        "        wtsum = np.sum(weights)\n",
        "        weights = weights / wtsum  # normalize weights\n",
        "\n",
        "        num_clients = len(client_states)\n",
        "\n",
        "        shapley_values = [[0] for i in range(num_clients)]\n",
        "        converged = False\n",
        "\n",
        "        T = 50 * num_clients\n",
        "        t = 0\n",
        "        threshold = 1e-3\n",
        "        v_init = 1 - self.val_loss(self.model, criterion)  # initial server model loss\n",
        "        model_final = self.aggregate_(client_states, weights)\n",
        "        v_final = 1 - self.val_loss(model_final, criterion)  # final server model loss\n",
        "        while not converged and (t < T):\n",
        "            t += 1\n",
        "            client_permutation = np.random.permutation(num_clients)\n",
        "            v_j = v_init\n",
        "            for j in range(num_clients):\n",
        "                if np.abs(v_final - v_j) < threshold:\n",
        "                    v_jplus1 = v_j\n",
        "                else:\n",
        "                    subset = client_permutation[: (j + 1)]\n",
        "                    client_states_subset = [client_states[i] for i in subset]\n",
        "                    weights_subset = [weights[i] for i in subset]\n",
        "                    model_subset = self.aggregate_(client_states_subset, weights_subset)\n",
        "                    v_jplus1 = 1 - self.val_loss(model_subset, criterion)\n",
        "\n",
        "                phi_old = shapley_values[client_permutation[j]][-1]\n",
        "                phi_new = ((t - 1) * phi_old + (v_jplus1 - v_j)) / t\n",
        "                shapley_values[client_permutation[j]].append(phi_new)\n",
        "                v_j = v_jplus1\n",
        "\n",
        "            flag = True\n",
        "            for j in range(num_clients):\n",
        "                if not convergenceTest(shapley_values[j]):\n",
        "                    flag = False\n",
        "            if flag:\n",
        "                converged = True\n",
        "        if converged == False:\n",
        "          print('not converged in SV TMC')\n",
        "        final_shapley_values = [shapley_values[i][-1] for i in range(num_clients)]\n",
        "        print(f'SV_TMC = {final_shapley_values}')\n",
        "        return final_shapley_values\n",
        "\n",
        "    def shapley_values_gtg(self, criterion, client_states, weights=None):\n",
        "        \"\"\"\n",
        "        client_states - list of client states\n",
        "        weights - weights for averaging (uniform by default)\n",
        "\n",
        "        computes shapley values for the client updates on validation dataset\n",
        "        \"\"\"\n",
        "        self.model_evaluations = 0\n",
        "        if weights is None:\n",
        "            # uniform weights by default\n",
        "            weights = [1 / len(client_states)] * len(client_states)\n",
        "        weights = np.array(weights)\n",
        "        wtsum = np.sum(weights)\n",
        "        weights = weights / wtsum  # normalize weights\n",
        "\n",
        "        num_clients = len(client_states)\n",
        "\n",
        "        shapley_values = [[0] for i in range(num_clients)]\n",
        "        converged = False\n",
        "\n",
        "        T = 50 * num_clients\n",
        "        t = 0\n",
        "        threshold = 1e-3\n",
        "        v_init = 1 - self.val_loss(self.model, criterion)  # initial server model loss\n",
        "        model_final = self.aggregate_(client_states, weights)\n",
        "        v_final = 1 - self.val_loss(model_final, criterion)  # final server model loss\n",
        "        if np.abs(v_final - v_init) < threshold:\n",
        "            # between round truncation\n",
        "            return [0 for i in range(num_clients)]\n",
        "\n",
        "        while not converged and (t < T):\n",
        "            for client_idx in range(num_clients):\n",
        "                t += 1\n",
        "                client_permutation = np.concatenate(\n",
        "                    (\n",
        "                        np.array([client_idx]),\n",
        "                        np.random.permutation(\n",
        "                            [i for i in range(num_clients) if i != client_idx]\n",
        "                        ),\n",
        "                    )\n",
        "                ).astype(int)\n",
        "                v_j = v_init\n",
        "                for j in range(num_clients):\n",
        "                    if np.abs(v_final - v_j) < threshold:\n",
        "                        v_jplus1 = v_j\n",
        "                    else:\n",
        "                        subset = client_permutation[: (j + 1)]\n",
        "                        client_states_subset = [client_states[i] for i in subset]\n",
        "                        weights_subset = [weights[i] for i in subset]\n",
        "                        model_subset = self.aggregate_(client_states_subset, weights_subset)\n",
        "                        v_jplus1 = 1 - self.val_loss(model_subset, criterion)\n",
        "\n",
        "                    phi_old = shapley_values[client_permutation[j]][-1]\n",
        "                    phi_new = ((t - 1) * phi_old + (v_jplus1 - v_j)) / t\n",
        "                    shapley_values[client_permutation[j]].append(phi_new)\n",
        "                    v_j = v_jplus1\n",
        "\n",
        "                flag = True\n",
        "                for j in range(num_clients):\n",
        "                    if not convergenceTest(shapley_values[j]):\n",
        "                        flag = False\n",
        "                if flag:\n",
        "                    converged = True\n",
        "        if converged == False:\n",
        "          print('not converged in SV GTG')\n",
        "        final_shapley_values = [shapley_values[i][-1] for i in range(num_clients)]\n",
        "        print(f'SV_GTG = {final_shapley_values}')\n",
        "        return final_shapley_values\n",
        "\n",
        "    def shapley_values_true(self, criterion, client_states, weights=None):\n",
        "        \"\"\"\n",
        "        client_states - list of client states\n",
        "        weights - weights for averaging (uniform by default)\n",
        "\n",
        "        computes shapley values for the client updates on validation dataset\n",
        "        \"\"\"\n",
        "        self.model_evaluations = 0\n",
        "        def powerset(iterable):\n",
        "            \"powerset([1,2,3]) --> () (1,) (2,) (3,) (1,2) (1,3) (2,3) (1,2,3)\"\n",
        "            s = list(iterable)\n",
        "            return list(\n",
        "                chain.from_iterable(combinations(s, r) for r in range(len(s) + 1))\n",
        "            )\n",
        "\n",
        "        if weights is None:\n",
        "            # uniform weights by default\n",
        "            weights = [1 / len(client_states)] * len(client_states)\n",
        "        weights = np.array(weights)\n",
        "        wtsum = np.sum(weights)\n",
        "        weights = weights / wtsum  # normalize weights\n",
        "\n",
        "        num_clients = len(client_states)\n",
        "        client_subsets = powerset(range(num_clients))\n",
        "        subset_utilities = {i: 0 for i in client_subsets}\n",
        "        shapley_values = [[0] for i in range(num_clients)]\n",
        "\n",
        "        for subset in client_subsets:\n",
        "            client_states_subset = [client_states[i] for i in subset]\n",
        "            weights_subset = [weights[i] for i in subset]\n",
        "            model_subset = self.aggregate_(client_states_subset, weights_subset)\n",
        "            loss_subset = self.val_loss(model_subset, criterion)\n",
        "            subset_utilities[subset] = 1 - loss_subset\n",
        "\n",
        "        for subset in client_subsets:\n",
        "            for idx in range(num_clients):\n",
        "                L = len(subset)  # subset size\n",
        "                if idx in subset:\n",
        "                    nck = comb(num_clients - 1, L - 1)\n",
        "                    prev_val = shapley_values[idx][-1]\n",
        "                    new_val = prev_val + subset_utilities[subset] / nck\n",
        "                    shapley_values[idx].append(new_val)\n",
        "                else:\n",
        "                    nck = comb(num_clients - 1, L)\n",
        "                    prev_val = shapley_values[idx][-1]\n",
        "                    new_val = prev_val - subset_utilities[subset] / nck\n",
        "                    shapley_values[idx].append(new_val)\n",
        "\n",
        "        final_shapley_values = [shapley_values[i][-1] for i in range(num_clients)]\n",
        "        return final_shapley_values\n",
        "\n",
        "    def test_loss(self, criterion):\n",
        "        \"\"\"\n",
        "        criterion - loss function (model, data, targets)\n",
        "\n",
        "        computes loss on test set with the server model\n",
        "        \"\"\"\n",
        "        self.model.eval()\n",
        "        with torch.no_grad():\n",
        "            loss = criterion(self.model, self.test_data, self.test_targets)\n",
        "        self.model.train()\n",
        "        return float(loss.cpu())\n",
        "\n",
        "    def accuracy(self):\n",
        "        \"\"\"\n",
        "        test accuracy\n",
        "        \"\"\"\n",
        "        self.model.eval()\n",
        "        with torch.no_grad():\n",
        "            scores = self.model(self.test_data)\n",
        "            _, predictions = scores.max(1)\n",
        "            num_correct = torch.sum(predictions == self.test_targets)\n",
        "            total = self.length\n",
        "            accuracy = num_correct / total\n",
        "        self.model.train()\n",
        "        return float(accuracy.cpu())\n",
        "\n",
        "    def val_loss(self, model, criterion):\n",
        "        \"\"\"\n",
        "        model\n",
        "        criterion - loss function (model, data, targets)\n",
        "\n",
        "        computes loss on validation set with the given model\n",
        "        \"\"\"\n",
        "        model.eval()\n",
        "        with torch.no_grad():\n",
        "            loss = criterion(model, self.val_data, self.val_targets)\n",
        "        model.train()\n",
        "        self.model_evaluations += 1\n",
        "        return float(loss.cpu())"
      ],
      "metadata": {
        "id": "eMH7EpJY_VMZ"
      },
      "execution_count": 6,
      "outputs": []
    },
    {
      "cell_type": "markdown",
      "source": [
        "## Generate dataset split across clients and server"
      ],
      "metadata": {
        "id": "RAe3LGcc__A8"
      }
    },
    {
      "cell_type": "code",
      "source": [
        "def initNetworkData(dataset, num_clients, random_seed, alpha, beta=0):\n",
        "    \"\"\"\n",
        "    choose dataset from [\"synthetic\", \"mnist\", \"cifar10\"]\n",
        "    num_clients - number of clients\n",
        "    random_seed - random seed\n",
        "    alpha - Dirichlet parameter (for mnist, cifar10) / Variance (for synthetic)\n",
        "    beta - Variance parameter (for synthetic only, not needed for mnist, cifar10)\n",
        "    \"\"\"\n",
        "    if dataset not in [\"synthetic\", \"mnist\", \"cifar10\"]:\n",
        "        raise Exception(\"Invalid dataset\")\n",
        "\n",
        "    elif dataset == \"synthetic\":\n",
        "        clients = []\n",
        "        test_val_data = []\n",
        "        test_val_targets = []\n",
        "\n",
        "        torch.manual_seed(random_seed)\n",
        "        np.random.seed(random_seed)\n",
        "\n",
        "        # # distribute data points to num_clients clients by the power law\n",
        "        # client_datapoint_fractions = np.random.uniform(0, 1, num_clients) ** (\n",
        "        #     1 / 3\n",
        "        # )  # inverse CDF sampling\n",
        "        # distribute datapoints uniformly\n",
        "        client_datapoint_fractions = np.array([1 for i in range(num_clients)])\n",
        "        client_datapoint_fractions = client_datapoint_fractions / np.sum(\n",
        "            client_datapoint_fractions\n",
        "        )\n",
        "        total_train_datapoints = 60000\n",
        "        num_datapoints = total_train_datapoints * client_datapoint_fractions\n",
        "        for i in range(num_clients):\n",
        "            N_i = int(num_datapoints[i])\n",
        "            train_i, test_val_i = synthetic_samples(alpha, beta, N_i)\n",
        "            clients.append(Client(train_i[\"data\"], train_i[\"targets\"], device))\n",
        "            test_val_data.extend(test_val_i[\"data\"])\n",
        "            test_val_targets.extend(test_val_i[\"targets\"])\n",
        "\n",
        "        serverModel = nn.Sequential(nn.Linear(60, 10))\n",
        "        # compute total number of datapoints in test_val_data\n",
        "        test_val_length = len(test_val_data)\n",
        "        # split these 50:50 between test and val sets\n",
        "        test_val_indices = list(range(test_val_length))\n",
        "        np.random.shuffle(test_val_indices)\n",
        "        test_indices = test_val_indices[: int(test_val_length / 2)]\n",
        "        val_indices = test_val_indices[int(test_val_length / 2) :]\n",
        "        test_val_data = torch.stack(test_val_data)\n",
        "        test_val_targets = torch.stack(test_val_targets)\n",
        "        val_data = test_val_data[val_indices]\n",
        "        val_targets = test_val_targets[val_indices]\n",
        "        test_data = test_val_data[test_indices]\n",
        "        test_targets = test_val_targets[test_indices]\n",
        "        server = Server(\n",
        "            serverModel, val_data, val_targets, test_data, test_targets, device\n",
        "        )\n",
        "\n",
        "    elif dataset == \"mnist\":\n",
        "        train_dataset, val_dataset, test_dataset = load_mnist_flat()\n",
        "\n",
        "        torch.manual_seed(random_seed)\n",
        "        np.random.seed(random_seed)\n",
        "\n",
        "        client_indices = NIIDClientSplit(train_dataset, num_clients, alpha)\n",
        "        clients = []\n",
        "        for i in range(num_clients):\n",
        "            clients.append(\n",
        "                Client(\n",
        "                    train_dataset.data[client_indices[i]],\n",
        "                    train_dataset.targets[client_indices[i]],\n",
        "                    device,\n",
        "                )\n",
        "            )\n",
        "\n",
        "        serverModel = NN(input_dim=784, output_dim=10)\n",
        "        server = Server(\n",
        "            serverModel,\n",
        "            val_dataset.data,\n",
        "            val_dataset.targets,\n",
        "            test_dataset.data,\n",
        "            test_dataset.targets,\n",
        "            device,\n",
        "        )\n",
        "\n",
        "    elif dataset == \"cifar10\":\n",
        "        train_dataset, val_dataset, test_dataset = load_cifar10()\n",
        "\n",
        "        torch.manual_seed(random_seed)\n",
        "        np.random.seed(random_seed)\n",
        "\n",
        "        client_indices = NIIDClientSplit(train_dataset, num_clients, alpha)\n",
        "        clients = []\n",
        "        for i in range(num_clients):\n",
        "            clients.append(\n",
        "                Client(\n",
        "                    train_dataset.data[client_indices[i]],\n",
        "                    train_dataset.targets[client_indices[i]],\n",
        "                    device,\n",
        "                )\n",
        "            )\n",
        "        in_channels = 3\n",
        "        output_dim = 10\n",
        "        input_h = 32\n",
        "        input_w = 32\n",
        "        serverModel = CNN(in_channels, input_w, input_h, output_dim)\n",
        "        server = Server(\n",
        "            serverModel,\n",
        "            val_dataset.data,\n",
        "            val_dataset.targets,\n",
        "            test_dataset.data,\n",
        "            test_dataset.targets,\n",
        "            device,\n",
        "        )\n",
        "\n",
        "    return clients, server"
      ],
      "metadata": {
        "id": "tTYGPghD_71g"
      },
      "execution_count": 7,
      "outputs": []
    },
    {
      "cell_type": "markdown",
      "source": [
        "## Helper Functions"
      ],
      "metadata": {
        "id": "TXLlUelhKpiz"
      }
    },
    {
      "cell_type": "code",
      "source": [
        "def squarederror(a,b):\n",
        "    \"returns (l2-norm(a-b))**2\"\n",
        "    return torch.square(torch.linalg.norm((a-b)))\n",
        "\n",
        "def fed_prox_criterion(model_reference, mu):\n",
        "    \"\"\"\n",
        "    returns the required function when called\n",
        "    loss function for FedProx with chosen mu parameter\n",
        "    \"\"\"\n",
        "    model_reference = deepcopy(model_reference)\n",
        "\n",
        "    def loss(model, data, targets):\n",
        "        criterion = torch.nn.CrossEntropyLoss()\n",
        "        scores = model(data)\n",
        "        loss_value = criterion(scores, targets)\n",
        "        for param, param_reference in zip(\n",
        "            model.parameters(), model_reference.parameters()\n",
        "        ):\n",
        "            loss_value += 0.5 * mu * squarederror(param, param_reference)\n",
        "        return loss_value\n",
        "\n",
        "    return loss\n",
        "\n",
        "def fed_avg_criterion():\n",
        "    def loss(model, data, targets):\n",
        "        criterion = torch.nn.CrossEntropyLoss()\n",
        "        scores = model(data)\n",
        "        return criterion(scores, targets)\n",
        "\n",
        "    return loss\n",
        "\n",
        "def topk(values, k):\n",
        "    # returns indices of top-k values with ties broken at random\n",
        "    values = np.array(values)\n",
        "    p = np.random.permutation(len(values))\n",
        "    indices = p[np.argpartition(values[p], -k)[-k:]]\n",
        "    return indices"
      ],
      "metadata": {
        "id": "wSgBk7oPKu4A"
      },
      "execution_count": 8,
      "outputs": []
    },
    {
      "cell_type": "markdown",
      "source": [
        "## Algorithm Runs"
      ],
      "metadata": {
        "id": "_dJRZEhKKwQI"
      }
    },
    {
      "cell_type": "code",
      "execution_count": 9,
      "metadata": {
        "id": "qw6xPX4Vw7nv"
      },
      "outputs": [],
      "source": [
        "def fed_avg_run(\n",
        "    clients,\n",
        "    server,\n",
        "    select_fraction,\n",
        "    T,\n",
        "    random_seed=0,\n",
        "    E=5,\n",
        "    B=10,\n",
        "    learning_rate=0.01,\n",
        "    momentum=0.5,\n",
        "    run_mode='analysis'\n",
        "):\n",
        "    if run_mode == 'save':\n",
        "        config = deepcopy(wandb_config)\n",
        "        config[\"algorithm\"] = \"FedAvg\"\n",
        "        wandb.init(project=\"federated-learning-summary\", config=config)\n",
        "    clients = deepcopy(clients)\n",
        "    client_weights = np.array([client.length for client in clients])\n",
        "    client_weights = client_weights/np.sum(client_weights)\n",
        "    server = deepcopy(server)\n",
        "    torch.manual_seed(random_seed)\n",
        "    np.random.seed(random_seed)\n",
        "    num_clients = len(clients)\n",
        "    num_selected = int(np.ceil(select_fraction * num_clients))\n",
        "\n",
        "    test_acc = []\n",
        "    train_acc = []\n",
        "    train_loss = []\n",
        "    val_loss = []\n",
        "    test_loss = []\n",
        "    for t in tqdm(range(T)):\n",
        "        # select clients to transmit weights to\n",
        "\n",
        "        # uniform random\n",
        "        all_clients = [i for i in range(num_clients)]\n",
        "        np.random.shuffle(all_clients)\n",
        "        selected_client_indices = all_clients[0:num_selected]\n",
        "        selected_status = [False for i in range(num_clients)]\n",
        "        for i in range(num_clients):\n",
        "            if i in selected_client_indices:\n",
        "                selected_status[i] = True\n",
        "\n",
        "        client_states = []\n",
        "        weights = []\n",
        "        for idx, client in enumerate(clients):\n",
        "            if selected_status[idx]:\n",
        "                # perform descent at client\n",
        "                client_state = client.train(\n",
        "                    server.model,\n",
        "                    criterion=fed_avg_criterion(),\n",
        "                    E=E,\n",
        "                    B=B,\n",
        "                    learning_rate=learning_rate,\n",
        "                    momentum=momentum,\n",
        "                )\n",
        "                weight = client.length  # number of data points at client\n",
        "                client_states.append(client_state)\n",
        "                weights.append(weight)\n",
        "\n",
        "        server.aggregate(client_states, weights)\n",
        "\n",
        "        test_acc_now = server.accuracy()\n",
        "        train_acc_now = np.sum([client_weights[i]*clients[i].accuracy_(server.model) for i in range(num_clients)])\n",
        "        train_loss_now = np.sum([client_weights[i]*clients[i].loss(server.model, fed_avg_criterion()) for i in range(num_clients)])\n",
        "        val_loss_now = server.val_loss(server.model, fed_avg_criterion())\n",
        "        test_loss_now = server.test_loss(fed_avg_criterion())\n",
        "\n",
        "        train_acc.append(train_acc_now)\n",
        "        test_acc.append(test_acc_now)\n",
        "        train_loss.append(train_loss_now)\n",
        "        val_loss.append(val_loss_now)\n",
        "        test_loss.append(test_loss_now)\n",
        "\n",
        "        log_dict = {\n",
        "            \"train_accuracy\": train_acc_now,\n",
        "            \"test_accuracy\":test_acc_now,\n",
        "            \"train_loss\":train_loss_now,\n",
        "            \"val_loss\": val_loss_now,\n",
        "            \"test_loss\": test_loss_now,\n",
        "        }\n",
        "        if run_mode == 'save':\n",
        "            wandb.log(log_dict)\n",
        "\n",
        "    if run_mode == 'save':\n",
        "        wandb.finish()\n",
        "\n",
        "    return test_acc, train_acc, train_loss, val_loss, test_loss\n",
        "\n",
        "\n",
        "def fed_prox_run(\n",
        "    clients,\n",
        "    server,\n",
        "    select_fraction,\n",
        "    T,\n",
        "    mu,\n",
        "    random_seed=0,\n",
        "    E=5,\n",
        "    B=10,\n",
        "    learning_rate=0.01,\n",
        "    momentum=0.5,\n",
        "    run_mode = 'analysis'\n",
        "):\n",
        "    if run_mode == 'save':\n",
        "        config = deepcopy(wandb_config)\n",
        "        config[\"algorithm\"] = \"FedProx\"\n",
        "        config[\"mu\"] = mu\n",
        "        wandb.init(project=\"federated-learning-summary\", config=config)\n",
        "\n",
        "    clients = deepcopy(clients)\n",
        "    client_weights = np.array([client.length for client in clients])\n",
        "    client_weights = client_weights/np.sum(client_weights)\n",
        "    server = deepcopy(server)\n",
        "    torch.manual_seed(random_seed)\n",
        "    np.random.seed(random_seed)\n",
        "    num_clients = len(clients)\n",
        "    num_selected = int(np.ceil(select_fraction * num_clients))\n",
        "\n",
        "    test_acc = []\n",
        "    train_acc = []\n",
        "    train_loss = []\n",
        "    val_loss = []\n",
        "    test_loss = []\n",
        "    for t in tqdm(range(T)):\n",
        "        # select clients to transmit weights to\n",
        "\n",
        "        # uniform random\n",
        "        all_clients = [i for i in range(num_clients)]\n",
        "        np.random.shuffle(all_clients)\n",
        "        selected_client_indices = all_clients[0:num_selected]\n",
        "        selected_status = [False for i in range(num_clients)]\n",
        "        for i in range(num_clients):\n",
        "            if i in selected_client_indices:\n",
        "                selected_status[i] = True\n",
        "\n",
        "        client_states = []\n",
        "        weights = []\n",
        "        for idx, client in enumerate(clients):\n",
        "            if selected_status[idx]:\n",
        "                # perform descent at client\n",
        "                client_state = client.train(\n",
        "                    server.model,\n",
        "                    criterion=fed_prox_criterion(server.model, mu=mu),\n",
        "                    E=E,\n",
        "                    B=B,\n",
        "                    learning_rate=learning_rate,\n",
        "                    momentum=momentum,\n",
        "                )\n",
        "                weight = client.length  # number of data points at client\n",
        "                client_states.append(client_state)\n",
        "                weights.append(weight)\n",
        "\n",
        "        server.aggregate(client_states, weights)\n",
        "        test_acc_now = server.accuracy()\n",
        "        train_acc_now = np.sum([client_weights[i]*clients[i].accuracy_(server.model) for i in range(num_clients)])\n",
        "        train_loss_now = np.sum([client_weights[i]*clients[i].loss(server.model, fed_avg_criterion()) for i in range(num_clients)])\n",
        "        val_loss_now = server.val_loss(server.model, fed_avg_criterion())\n",
        "        test_loss_now = server.test_loss(fed_avg_criterion())\n",
        "\n",
        "        train_acc.append(train_acc_now)\n",
        "        test_acc.append(test_acc_now)\n",
        "        train_loss.append(train_loss_now)\n",
        "        val_loss.append(val_loss_now)\n",
        "        test_loss.append(test_loss_now)\n",
        "\n",
        "        # adpative mu\n",
        "        try:\n",
        "            if val_loss[-1] > val_loss[-2]:\n",
        "                mu += 0.1\n",
        "            elif val_loss[-1] < val_loss[-5]:\n",
        "                mu -= 0.1\n",
        "        except IndexError:\n",
        "            pass\n",
        "        finally:\n",
        "            print(f'mu = {mu}')\n",
        "\n",
        "\n",
        "        log_dict = {\n",
        "            \"train_accuracy\": train_acc_now,\n",
        "            \"test_accuracy\":test_acc_now,\n",
        "            \"train_loss\":train_loss_now,\n",
        "            \"val_loss\": val_loss_now,\n",
        "            \"test_loss\": test_loss_now,\n",
        "        }\n",
        "        if run_mode == 'save':\n",
        "            wandb.log(log_dict)\n",
        "\n",
        "    if run_mode == 'save':\n",
        "        wandb.finish()\n",
        "\n",
        "    return test_acc, train_acc, train_loss, val_loss, test_loss\n",
        "\n",
        "\n",
        "def power_of_choice_run(\n",
        "    clients,\n",
        "    server,\n",
        "    select_fraction,\n",
        "    T,\n",
        "    decay_factor=1,\n",
        "    random_seed=0,\n",
        "    E=5,\n",
        "    B=10,\n",
        "    learning_rate=0.01,\n",
        "    momentum=0.5,\n",
        "    run_mode = 'analysis',\n",
        "):\n",
        "    \"\"\"\n",
        "    Power of Choice\n",
        "    decay_factor (default = 1, no decay)\n",
        "        determines the decay rate of number of clients to transmit the server model to (choose_from)\n",
        "    \"\"\"\n",
        "    if run_mode == 'save':\n",
        "        config = deepcopy(wandb_config)\n",
        "        config[\"algorithm\"] = \"Power of Choice\"\n",
        "        config[\"decay_factor\"] = decay_factor\n",
        "        wandb.init(project=\"federated-learning-summary\", config=config)\n",
        "    clients = deepcopy(clients)\n",
        "    client_weights = np.array([client.length for client in clients])\n",
        "    client_weights = client_weights/np.sum(client_weights)\n",
        "    server = deepcopy(server)\n",
        "    torch.manual_seed(random_seed)\n",
        "    np.random.seed(random_seed)\n",
        "    num_clients = len(clients)\n",
        "    num_selected = int(np.ceil(select_fraction * num_clients))\n",
        "\n",
        "    test_acc = []\n",
        "    train_acc = []\n",
        "    train_loss = []\n",
        "    val_loss = []\n",
        "    test_loss = []\n",
        "\n",
        "    choose_from = num_clients  # the size of initial client subset to query for loss\n",
        "    for t in tqdm(range(T)):\n",
        "        # select clients to transmit weights to\n",
        "        if choose_from > num_selected:\n",
        "            choose_from *= decay_factor\n",
        "            choose_from = int(np.ceil(choose_from))\n",
        "        # uniform random\n",
        "        all_clients = [i for i in range(num_clients)]\n",
        "        np.random.shuffle(all_clients)\n",
        "        selected_client_indices = all_clients[0:choose_from]\n",
        "        selected_status = [False for i in range(num_clients)]\n",
        "        for i in range(num_clients):\n",
        "            if i in selected_client_indices:\n",
        "                selected_status[i] = True\n",
        "\n",
        "        client_losses = []  # will store array of size choose_from\n",
        "        for idx, client in enumerate(clients):\n",
        "            if selected_status[idx]:\n",
        "                # query selected clients for loss\n",
        "                client_loss = client.loss(server.model, fed_avg_criterion())\n",
        "                client_losses.append(client_loss)\n",
        "        # find indices of largest num_selected values in client_losses\n",
        "        indices = topk(client_losses, num_selected)\n",
        "        selected_client_indices_2 = []  # will store array of size num_selected\n",
        "        for i in indices:\n",
        "            selected_client_indices_2.append(selected_client_indices[i])\n",
        "\n",
        "        selected_status = [False for i in range(num_clients)]\n",
        "        for i in range(num_clients):\n",
        "            if i in selected_client_indices_2:\n",
        "                selected_status[i] = True\n",
        "\n",
        "        client_states = []\n",
        "        weights = []\n",
        "        for idx, client in enumerate(clients):\n",
        "            if selected_status[idx]:\n",
        "                # perform descent at client\n",
        "                client_state = client.train(\n",
        "                    server.model,\n",
        "                    criterion=fed_avg_criterion(),\n",
        "                    E=E,\n",
        "                    B=B,\n",
        "                    learning_rate=learning_rate,\n",
        "                    momentum=momentum,\n",
        "                )\n",
        "                weight = client.length  # number of data points at client\n",
        "                client_states.append(client_state)\n",
        "                weights.append(weight)\n",
        "\n",
        "        server.aggregate(client_states, weights)\n",
        "        test_acc_now = server.accuracy()\n",
        "        train_acc_now = np.sum([client_weights[i]*clients[i].accuracy_(server.model) for i in range(num_clients)])\n",
        "        train_loss_now = np.sum([client_weights[i]*clients[i].loss(server.model, fed_avg_criterion()) for i in range(num_clients)])\n",
        "        val_loss_now = server.val_loss(server.model, fed_avg_criterion())\n",
        "        test_loss_now = server.test_loss(fed_avg_criterion())\n",
        "\n",
        "        train_acc.append(train_acc_now)\n",
        "        test_acc.append(test_acc_now)\n",
        "        train_loss.append(train_loss_now)\n",
        "        val_loss.append(val_loss_now)\n",
        "        test_loss.append(test_loss_now)\n",
        "\n",
        "        log_dict = {\n",
        "            \"train_accuracy\": train_acc_now,\n",
        "            \"test_accuracy\":test_acc_now,\n",
        "            \"train_loss\":train_loss_now,\n",
        "            \"val_loss\": val_loss_now,\n",
        "            \"test_loss\": test_loss_now,\n",
        "        }\n",
        "        if run_mode == 'save':\n",
        "            wandb.log(log_dict)\n",
        "\n",
        "    if run_mode == 'save':\n",
        "        wandb.finish()\n",
        "\n",
        "    return test_acc, train_acc, train_loss, val_loss, test_loss\n",
        "\n",
        "\n",
        "def shapley_run(\n",
        "    clients,\n",
        "    server,\n",
        "    select_fraction,\n",
        "    T,\n",
        "    client_selection,\n",
        "    random_seed=0,\n",
        "    E=5,\n",
        "    B=10,\n",
        "    learning_rate=0.01,\n",
        "    momentum=0.5,\n",
        "    run_mode = 'analysis',\n",
        "):\n",
        "    if run_mode == 'save':\n",
        "        config = deepcopy(wandb_config)\n",
        "        config[\"client_selection\"] = client_selection\n",
        "        wandb.init(project=\"federated-learning-summary\", config=config)\n",
        "    clients = deepcopy(clients)\n",
        "    server = deepcopy(server)\n",
        "    torch.manual_seed(random_seed)\n",
        "    np.random.seed(random_seed)\n",
        "    num_clients = len(clients)\n",
        "    num_selected = int(np.ceil(select_fraction * num_clients))\n",
        "    choose_from = num_clients  # the size of initial client subset to query for loss\n",
        "\n",
        "    accuracy = []\n",
        "    val_loss = []\n",
        "    test_loss = []\n",
        "    shapley_values_T = []\n",
        "    selections_T = []\n",
        "    for t in tqdm(range(T)):\n",
        "        # select clients to transmit weights to\n",
        "        # uniform random\n",
        "        client_states = []\n",
        "        weights = []\n",
        "        client_losses = []\n",
        "        for idx, client in enumerate(clients):\n",
        "            client_losses.append(client.loss(server.model, fed_avg_criterion()))\n",
        "            # perform descent at client\n",
        "            client_state = client.train(\n",
        "                server.model,\n",
        "                criterion=fed_avg_criterion(),\n",
        "                E=E,\n",
        "                B=B,\n",
        "                learning_rate=learning_rate,\n",
        "                momentum=momentum,\n",
        "            )\n",
        "            weight = client.length  # number of data points at client\n",
        "            client_states.append(client_state)\n",
        "            weights.append(weight)\n",
        "        # compute shapley values for each client\n",
        "        # shapley_values = server.shapley_values_mc(\n",
        "        #     fed_avg_criterion(), client_states, weights\n",
        "        # )\n",
        "        # shapley_values = server.shapley_values_tmc(\n",
        "        #     fed_avg_criterion(), client_states, weights\n",
        "        # )\n",
        "        shapley_values = server.shapley_values_true(\n",
        "            fed_avg_criterion(), client_states, weights\n",
        "        )\n",
        "        shapley_values_T.append(shapley_values)\n",
        "\n",
        "        # find indices of largest num_selected values in shapley_values\n",
        "        selections = [0 for i in range(num_clients)]\n",
        "        if client_selection == \"best\":\n",
        "            indices = topk(shapley_values, num_selected)\n",
        "        elif client_selection == \"fedavg\":\n",
        "            indices = np.random.choice(num_clients, size=num_selected, replace=False)\n",
        "        elif client_selection == \"worst\":\n",
        "            indices = np.argpartition(shapley_values, num_selected)[:num_selected]\n",
        "        elif client_selection == \"power_of_choice\":\n",
        "            indices = topk(client_losses, num_selected)\n",
        "        client_states_chosen = [client_states[i] for i in indices]\n",
        "        weights_chosen = [weights[i] for i in indices]\n",
        "\n",
        "        for idx in indices:\n",
        "            selections[idx] = 1\n",
        "        selections_T.append(selections)\n",
        "\n",
        "        server.aggregate(client_states_chosen, weights_chosen)\n",
        "        accuracy_now = server.accuracy()\n",
        "        val_loss_now = server.val_loss(server.model, fed_avg_criterion())\n",
        "        test_loss_now = server.test_loss(fed_avg_criterion())\n",
        "        accuracy.append(accuracy_now)\n",
        "        val_loss.append(val_loss_now)\n",
        "        test_loss.append(test_loss_now)\n",
        "\n",
        "        log_dict = {\n",
        "            \"accuracy\": accuracy_now,\n",
        "            \"val_loss\": val_loss_now,\n",
        "            \"test_loss\": test_loss_now,\n",
        "        }\n",
        "        for i in range(num_clients):\n",
        "            log_dict[f\"shapley_value_{i}\"] = shapley_values[i]\n",
        "            log_dict[f\"selection_{i}\"] = selections[i]\n",
        "        if run_mode == 'save':\n",
        "            wandb.log(log_dict)\n",
        "\n",
        "    if run_mode == 'save':\n",
        "        wandb.finish()\n",
        "    return accuracy, val_loss, test_loss, shapley_values_T, selections_T\n",
        "\n",
        "\n",
        "def ucb_run(\n",
        "    clients,\n",
        "    server,\n",
        "    select_fraction,\n",
        "    T,\n",
        "    beta,\n",
        "    random_seed=0,\n",
        "    E=5,\n",
        "    B=10,\n",
        "    learning_rate=0.01,\n",
        "    momentum=0.5,\n",
        "    run_mode = 'analysis',\n",
        "):\n",
        "    if run_mode == 'save':\n",
        "        config = deepcopy(wandb_config)\n",
        "        config[\"client_selection\"] = \"ucb\"\n",
        "        config[\"beta\"] = beta\n",
        "        wandb.init(project=\"federated-learning-summary\", config=config)\n",
        "    clients = deepcopy(clients)\n",
        "    client_weights = np.array([client.length for client in clients])\n",
        "    client_weights = client_weights/np.sum(client_weights)\n",
        "    server = deepcopy(server)\n",
        "    torch.manual_seed(random_seed)\n",
        "    np.random.seed(random_seed)\n",
        "    num_clients = len(clients)\n",
        "    num_selected = int(np.ceil(select_fraction * num_clients))\n",
        "\n",
        "    test_acc = []\n",
        "    train_acc = []\n",
        "    train_loss = []\n",
        "    val_loss = []\n",
        "    test_loss = []\n",
        "\n",
        "    shapley_values_T = []\n",
        "    selections_T = []\n",
        "    draws_T = []\n",
        "\n",
        "    N_t = [0 for i in range(num_clients)]\n",
        "    UCB = [0 for i in range(num_clients)]\n",
        "    SV = [0 for i in range(num_clients)]\n",
        "    for t in tqdm(range(T)):\n",
        "        # select clients to transmit weights to\n",
        "        # initially sample every client atleast once\n",
        "        selected_status = [False for i in range(num_clients)]\n",
        "        if t < np.floor(num_clients / num_selected):\n",
        "            for idx in range(t * num_selected, (t + 1) * num_selected):\n",
        "                selected_status[idx] = True\n",
        "                N_t[idx] += 1\n",
        "        elif t == np.floor(num_clients / num_selected):\n",
        "            for idx in range(t * num_selected, num_clients):\n",
        "                selected_status[idx] = True\n",
        "                N_t[idx] += 1\n",
        "            remaining_selections = num_selected * (t + 1) - num_clients\n",
        "            if remaining_selections > 0:\n",
        "                unselected_indices = list(range(0, t * num_selected))\n",
        "                selected_indices_subset = np.random.choice(\n",
        "                    unselected_indices, size=remaining_selections, replace=False\n",
        "                )\n",
        "                for idx in selected_indices_subset:\n",
        "                    selected_status[idx] = True\n",
        "                    N_t[idx] += 1\n",
        "        else:\n",
        "            # do UCB selection\n",
        "            selected_indices = topk(UCB, num_selected)\n",
        "            for idx in selected_indices:\n",
        "                selected_status[idx] = True\n",
        "                N_t[idx] += 1\n",
        "        # uniform random\n",
        "        client_states = []\n",
        "        weights = []\n",
        "\n",
        "        for idx, client in enumerate(clients):\n",
        "            if selected_status[idx]:\n",
        "                # perform descent at client\n",
        "                client_state = client.train(\n",
        "                    server.model,\n",
        "                    criterion=fed_avg_criterion(),\n",
        "                    E=E,\n",
        "                    B=B,\n",
        "                    learning_rate=learning_rate,\n",
        "                    momentum=momentum,\n",
        "                )\n",
        "                weight = client.length  # number of data points at client\n",
        "                client_states.append(client_state)\n",
        "                weights.append(weight)\n",
        "\n",
        "        # compute shapley values for each client BEFORE updating server model\n",
        "        server.model_evaluations = 0\n",
        "        print(f'server evaluations = {server.model_evaluations}')\n",
        "        print('starting MC')\n",
        "        server.model_evaluations = 0\n",
        "        shapley_values = server.shapley_values_mc(\n",
        "            fed_avg_criterion(), client_states, weights\n",
        "        )\n",
        "        print(f'server evaluations = {server.model_evaluations}')\n",
        "        print('starting TMC')\n",
        "        server.model_evaluations = 0\n",
        "        shapley_values = server.shapley_values_tmc(\n",
        "            fed_avg_criterion(), client_states, weights\n",
        "        )\n",
        "        print(f'server evaluations = {server.model_evaluations}')\n",
        "        print('starting True')\n",
        "        server.model_evaluations = 0\n",
        "        shapley_values = server.shapley_values_true(\n",
        "            fed_avg_criterion(), client_states, weights\n",
        "        )\n",
        "        print(f'server evaluations = {server.model_evaluations}')\n",
        "        print('starting GTG')\n",
        "        server.model_evaluations = 0\n",
        "        shapley_values = server.shapley_values_gtg(\n",
        "            fed_avg_criterion(), client_states, weights\n",
        "        )\n",
        "        # update server model\n",
        "        server.aggregate(client_states, weights)\n",
        "        test_acc_now = server.accuracy()\n",
        "        train_acc_now = np.sum([client_weights[i]*clients[i].accuracy_(server.model) for i in range(num_clients)])\n",
        "        train_loss_now = np.sum([client_weights[i]*clients[i].loss(server.model, fed_avg_criterion()) for i in range(num_clients)])\n",
        "        val_loss_now = server.val_loss(server.model, fed_avg_criterion())\n",
        "        test_loss_now = server.test_loss(fed_avg_criterion())\n",
        "\n",
        "        train_acc.append(train_acc_now)\n",
        "        test_acc.append(test_acc_now)\n",
        "        train_loss.append(train_loss_now)\n",
        "        val_loss.append(val_loss_now)\n",
        "        test_loss.append(test_loss_now)\n",
        "\n",
        "        # compute UCB for next round of selections\n",
        "        selections = [0 for i in range(num_clients)]\n",
        "        counter = 0\n",
        "        for i in range(num_clients):\n",
        "            if selected_status[i]:\n",
        "                SV[i] = ((N_t[i] - 1) * SV[i] + shapley_values[counter]) / N_t[i]\n",
        "                counter += 1\n",
        "                selections[i] = 1\n",
        "            UCB[i] = SV[i] + beta * np.sqrt(np.log(t + 1) / N_t[i])\n",
        "        shapley_values_T.append(deepcopy(SV))\n",
        "        selections_T.append(deepcopy(selections))\n",
        "        draws_T.append(deepcopy(N_t))\n",
        "        log_dict = {\n",
        "            \"train_accuracy\": train_acc_now,\n",
        "            \"test_accuracy\":test_acc_now,\n",
        "            \"train_loss\":train_loss_now,\n",
        "            \"val_loss\": val_loss_now,\n",
        "            \"test_loss\": test_loss_now,\n",
        "        }\n",
        "\n",
        "        for i in range(num_clients):\n",
        "            log_dict[f\"shapley_value_{i}\"] = SV[i]\n",
        "            log_dict[f\"selection_{i}\"] = selections[i]\n",
        "\n",
        "        if run_mode == 'save':\n",
        "            wandb.log(log_dict)\n",
        "\n",
        "    if run_mode == 'save':\n",
        "        wandb.finish()\n",
        "\n",
        "    return test_acc, train_acc, train_loss, val_loss, test_loss\n",
        "\n",
        "\n",
        "def sfedavg_run(\n",
        "    clients,\n",
        "    server,\n",
        "    select_fraction,\n",
        "    T,\n",
        "    alpha,\n",
        "    beta,\n",
        "    random_seed=0,\n",
        "    E=5,\n",
        "    B=10,\n",
        "    learning_rate=0.01,\n",
        "    momentum=0.5,\n",
        "    run_mode = 'analysis'\n",
        "):\n",
        "    if run_mode == 'save':\n",
        "        config = deepcopy(wandb_config)\n",
        "        config[\"client_selection\"] = \"S-FedAvg\"\n",
        "        config[\"algo-alpha\"] = alpha\n",
        "        config[\"algo-beta\"] = beta\n",
        "        wandb.init(project=\"federated-learning-summary\", config=config)\n",
        "    clients = deepcopy(clients)\n",
        "    client_weights = np.array([client.length for client in clients])\n",
        "    client_weights = client_weights/np.sum(client_weights)\n",
        "    server = deepcopy(server)\n",
        "    torch.manual_seed(random_seed)\n",
        "    np.random.seed(random_seed)\n",
        "    num_clients = len(clients)\n",
        "    num_selected = int(np.ceil(select_fraction * num_clients))\n",
        "\n",
        "    test_acc = []\n",
        "    train_acc = []\n",
        "    train_loss = []\n",
        "    val_loss = []\n",
        "    test_loss = []\n",
        "\n",
        "    shapley_values_T = []\n",
        "    selections_T = []\n",
        "    Phi_T = []\n",
        "    draws_T = []\n",
        "\n",
        "    N_t = [0 for i in range(num_clients)]\n",
        "    Phi = [1 / (num_clients) for i in range(num_clients)]\n",
        "    SV = [0 for i in range(num_clients)]\n",
        "    for t in tqdm(range(T)):\n",
        "        # select clients to transmit weights to\n",
        "        # initially sample every client atleast once\n",
        "        selected_status = [False for i in range(num_clients)]\n",
        "        # do Game of Gradients Selection\n",
        "        all_indices = list(range(num_clients))\n",
        "        probs = np.exp(np.array(Phi))\n",
        "        probs = probs / np.sum(probs)\n",
        "        selected_indices = np.random.choice(\n",
        "            all_indices, size=num_selected, replace=False, p=probs\n",
        "        )\n",
        "        for idx in selected_indices:\n",
        "            selected_status[idx] = True\n",
        "            N_t[idx] += 1\n",
        "        # uniform random\n",
        "        client_states = []\n",
        "        weights = []\n",
        "\n",
        "        for idx, client in enumerate(clients):\n",
        "            if selected_status[idx]:\n",
        "                # perform descent at client\n",
        "                client_state = client.train(\n",
        "                    server.model,\n",
        "                    criterion=fed_avg_criterion(),\n",
        "                    E=E,\n",
        "                    B=B,\n",
        "                    learning_rate=learning_rate,\n",
        "                    momentum=momentum,\n",
        "                )\n",
        "                weight = client.length  # number of data points at client\n",
        "                weight /= probs[idx]  # for unbiased averaging\n",
        "                client_states.append(client_state)\n",
        "                weights.append(weight)\n",
        "\n",
        "        # compute shapley values for each client BEFORE updating server model\n",
        "        # shapley_values = server.shapley_values_mc(\n",
        "        #     fed_avg_criterion(), client_states, weights\n",
        "        # )\n",
        "        # shapley_values = server.shapley_values_tmc(\n",
        "        #     fed_avg_criterion(), client_states, weights\n",
        "        # )\n",
        "        shapley_values = server.shapley_values_true(\n",
        "            fed_avg_criterion(), client_states, weights\n",
        "        )\n",
        "        # update server model\n",
        "        server.aggregate(client_states, weights)\n",
        "        test_acc_now = server.accuracy()\n",
        "        train_acc_now = np.sum([client_weights[i]*clients[i].accuracy_(server.model) for i in range(num_clients)])\n",
        "        train_loss_now = np.sum([client_weights[i]*clients[i].loss(server.model, fed_avg_criterion()) for i in range(num_clients)])\n",
        "        val_loss_now = server.val_loss(server.model, fed_avg_criterion())\n",
        "        test_loss_now = server.test_loss(fed_avg_criterion())\n",
        "\n",
        "        train_acc.append(train_acc_now)\n",
        "        test_acc.append(test_acc_now)\n",
        "        train_loss.append(train_loss_now)\n",
        "        val_loss.append(val_loss_now)\n",
        "        test_loss.append(test_loss_now)\n",
        "\n",
        "        # compute Phi for next round of selections\n",
        "        selections = [0 for i in range(num_clients)]\n",
        "        counter = 0\n",
        "        # defined as function parameters now\n",
        "        # alpha = 0.75\n",
        "        # beta = 0.25\n",
        "        for i in range(num_clients):\n",
        "            if selected_status[i]:\n",
        "                SV[i] = ((N_t[i] - 1) * SV[i] + shapley_values[counter]) / N_t[i]\n",
        "                counter += 1\n",
        "                selections[i] = 1\n",
        "                Phi[i] = alpha * Phi[i] + beta * SV[i]\n",
        "        shapley_values_T.append(deepcopy(SV))\n",
        "        Phi_T.append(deepcopy(Phi))\n",
        "        selections_T.append(deepcopy(selections))\n",
        "        draws_T.append(deepcopy(N_t))\n",
        "\n",
        "        log_dict = {\n",
        "            \"train_accuracy\": train_acc_now,\n",
        "            \"test_accuracy\":test_acc_now,\n",
        "            \"train_loss\":train_loss_now,\n",
        "            \"val_loss\": val_loss_now,\n",
        "            \"test_loss\": test_loss_now,\n",
        "        }\n",
        "\n",
        "        for i in range(num_clients):\n",
        "            log_dict[f\"shapley_value_{i}\"] = SV[i]\n",
        "            log_dict[f\"selection_{i}\"] = selections[i]\n",
        "        if run_mode == 'save':\n",
        "            wandb.log(log_dict)\n",
        "\n",
        "    if run_mode == 'save':\n",
        "        wandb.finish()\n",
        "\n",
        "    return test_acc, train_acc, train_loss, val_loss, test_loss\n",
        "\n"
      ]
    },
    {
      "cell_type": "markdown",
      "source": [
        "## Multiple algorithm runs"
      ],
      "metadata": {
        "id": "pPzp14f4K3FN"
      }
    },
    {
      "cell_type": "code",
      "source": [
        "\n",
        "def ucb_runs(beta, runs):\n",
        "    avg_accuracy_list = []\n",
        "    for run in range(runs):\n",
        "        accuracy_list, *_ = ucb_run(\n",
        "            deepcopy(clients),\n",
        "            deepcopy(server),\n",
        "            select_fraction,\n",
        "            T,\n",
        "            beta=beta,\n",
        "            random_seed=run,\n",
        "        )\n",
        "        accuracy_list = np.array(accuracy_list)\n",
        "        if run == 0:\n",
        "            avg_accuracy_list = deepcopy(accuracy_list)\n",
        "        avg_accuracy_list = (run * avg_accuracy_list + accuracy_list) / (run + 1)\n",
        "    return avg_accuracy_list\n",
        "\n",
        "\n",
        "def sfedavg_runs(alpha, beta, runs):\n",
        "    avg_accuracy_list = []\n",
        "    for run in range(runs):\n",
        "        accuracy_list, *_ = sfedavg_run(\n",
        "            deepcopy(clients),\n",
        "            deepcopy(server),\n",
        "            select_fraction,\n",
        "            T,\n",
        "            alpha=alpha,\n",
        "            beta=beta,\n",
        "            random_seed=run,\n",
        "        )\n",
        "\n",
        "        accuracy_list = np.array(accuracy_list)\n",
        "        if run == 0:\n",
        "            avg_accuracy_list = deepcopy(accuracy_list)\n",
        "        avg_accuracy_list = (run * avg_accuracy_list + accuracy_list) / (run + 1)\n",
        "    return avg_accuracy_list\n",
        "\n",
        "\n",
        "def fedavg_runs(runs):\n",
        "    avg_accuracy_list = []\n",
        "    for run in range(runs):\n",
        "        accuracy_list, *_ = fed_avg_run(\n",
        "            deepcopy(clients),\n",
        "            deepcopy(server),\n",
        "            select_fraction,\n",
        "            T,\n",
        "            random_seed=run,\n",
        "        )\n",
        "        accuracy_list = np.array(accuracy_list)\n",
        "        if run == 0:\n",
        "            avg_accuracy_list = deepcopy(accuracy_list)\n",
        "        avg_accuracy_list = (run * avg_accuracy_list + accuracy_list) / (run + 1)\n",
        "    return avg_accuracy_list\n",
        "\n",
        "\n",
        "def poc_runs(decay_factor, runs):\n",
        "    avg_accuracy_list = []\n",
        "    for run in range(runs):\n",
        "        accuracy_list, *_ = power_of_choice_run(\n",
        "            deepcopy(clients),\n",
        "            deepcopy(server),\n",
        "            select_fraction,\n",
        "            T,\n",
        "            decay_factor=decay_factor,\n",
        "            random_seed=random_seed,\n",
        "        )\n",
        "        accuracy_list = np.array(accuracy_list)\n",
        "        if run == 0:\n",
        "            avg_accuracy_list = deepcopy(accuracy_list)\n",
        "        avg_accuracy_list = (run * avg_accuracy_list + accuracy_list) / (run + 1)\n",
        "    return avg_accuracy_list\n",
        "\n",
        "\n",
        "def fedprox_runs(mu, runs):\n",
        "    avg_accuracy_list = []\n",
        "    for run in range(runs):\n",
        "        accuracy_list, *_ = fed_prox_run(\n",
        "            deepcopy(clients),\n",
        "            deepcopy(server),\n",
        "            select_fraction,\n",
        "            T,\n",
        "            mu=mu,\n",
        "            random_seed=random_seed,\n",
        "        )\n",
        "        accuracy_list = np.array(accuracy_list)\n",
        "        if run == 0:\n",
        "            avg_accuracy_list = deepcopy(accuracy_list)\n",
        "        avg_accuracy_list = (run * avg_accuracy_list + accuracy_list) / (run + 1)\n",
        "    return avg_accuracy_list"
      ],
      "metadata": {
        "id": "pGi5lb0CJ2GH"
      },
      "execution_count": 10,
      "outputs": []
    },
    {
      "cell_type": "code",
      "source": [
        "def run_once(algorithm, parameters, random_seed):\n",
        "    clients = parameters['clients']\n",
        "    server = parameters['server']\n",
        "    if 'E' in parameters.keys():\n",
        "        E = parameters['E']\n",
        "    else:\n",
        "        E = 5\n",
        "    if 'B' in parameters.keys():\n",
        "        B = parameters['B']\n",
        "    else:\n",
        "        B = 10\n",
        "    if 'select_fraction' in parameters.keys():\n",
        "        select_fraction = parameters['select_fraction']\n",
        "    else:\n",
        "        select_fraction = 0.1\n",
        "    if 'T' in parameters.keys():\n",
        "        T = parameters['T']\n",
        "    else:\n",
        "        T = 100\n",
        "\n",
        "    if 'run_mode' in parameters.keys():\n",
        "        run_mode = parameters['run_mode']\n",
        "    else:\n",
        "        run_mode = 'analysis'\n",
        "\n",
        "    if algorithm == 'fedavg':\n",
        "        test_acc, train_acc, train_loss, val_loss, test_loss = fed_avg_run(\n",
        "        clients,\n",
        "        server,\n",
        "        select_fraction,\n",
        "        T,\n",
        "        random_seed=random_seed,\n",
        "        E=E,\n",
        "        B=B,\n",
        "        run_mode=run_mode\n",
        "        )\n",
        "    elif algorithm == 'fedprox':\n",
        "        mu = parameters['mu']\n",
        "        test_acc, train_acc, train_loss, val_loss, test_loss = fed_prox_run(\n",
        "        clients,\n",
        "        server,\n",
        "        select_fraction,\n",
        "        T,\n",
        "        mu,\n",
        "        random_seed=random_seed,\n",
        "        E=E,\n",
        "        B=B,\n",
        "        run_mode=run_mode\n",
        "        )\n",
        "    elif algorithm == 'sfedavg':\n",
        "        alpha = parameters['alpha']\n",
        "        beta = parameters['beta']\n",
        "        test_acc, train_acc, train_loss, val_loss, test_loss = sfedavg_run(\n",
        "        clients,\n",
        "        server,\n",
        "        select_fraction,\n",
        "        T,\n",
        "        alpha,\n",
        "        beta,\n",
        "        random_seed=random_seed,\n",
        "        E=E,\n",
        "        B=B,\n",
        "        run_mode=run_mode\n",
        "        )\n",
        "    elif algorithm == 'ucb':\n",
        "        beta = parameters['beta']\n",
        "        test_acc, train_acc, train_loss, val_loss, test_loss = ucb_run(\n",
        "        clients,\n",
        "        server,\n",
        "        select_fraction,\n",
        "        T,\n",
        "        beta,\n",
        "        random_seed=random_seed,\n",
        "        E=E,\n",
        "        B=B,\n",
        "        run_mode=run_mode\n",
        "        )\n",
        "    elif algorithm == 'poc':\n",
        "        decay_factor = parameters['decay_factor']\n",
        "        test_acc, train_acc, train_loss, val_loss, test_loss = power_of_choice_run(\n",
        "        clients,\n",
        "        server,\n",
        "        select_fraction,\n",
        "        T,\n",
        "        decay_factor=decay_factor,\n",
        "        random_seed=random_seed,\n",
        "        E=E,\n",
        "        B=B,\n",
        "        run_mode=run_mode\n",
        "        )\n",
        "    return test_acc, train_acc, train_loss, val_loss, test_loss\n",
        "\n",
        "def runs(num_runs, algorithm, parameters = None):\n",
        "  test_acc_avg = []\n",
        "  train_acc_avg = []\n",
        "  train_loss_avg = []\n",
        "  val_loss_avg = []\n",
        "  test_loss_avg = []\n",
        "\n",
        "  dataset = parameters['dataset']\n",
        "  num_clients = parameters['num_clients']\n",
        "  alpha = parameters['dataset_alpha']\n",
        "  beta = parameters['dataset_beta']\n",
        "  for run in range(num_runs):\n",
        "    parameters['clients'], parameters['server'] = initNetworkData(dataset, num_clients, run, alpha, beta)\n",
        "    test_acc, train_acc, train_loss, val_loss, test_loss = run_once(algorithm, parameters, random_seed = run)\n",
        "    if run == 0:\n",
        "      test_acc_avg = np.array(test_acc)\n",
        "      train_acc_avg = np.array(train_acc)\n",
        "      train_loss_avg = np.array(train_loss)\n",
        "      val_loss_avg = np.array(val_loss)\n",
        "      test_loss_avg = np.array(test_loss)\n",
        "    else:\n",
        "      test_acc_avg = (run*test_acc_avg + np.array(test_acc))/(run+1)\n",
        "      train_acc_avg = (run*train_acc_avg + np.array(train_acc))/(run+1)\n",
        "      train_loss_avg = (run*train_loss_avg + np.array(train_loss))/(run+1)\n",
        "      val_loss_avg = (run*val_loss_avg + np.array(val_loss))/(run+1)\n",
        "      test_loss_avg = (run*test_loss_avg + np.array(test_loss))/(run+1)\n",
        "  return test_acc_avg, train_acc_avg, train_loss_avg, val_loss_avg, test_loss_avg"
      ],
      "metadata": {
        "id": "pqBzzjitH_Kc"
      },
      "execution_count": 11,
      "outputs": []
    },
    {
      "cell_type": "markdown",
      "source": [
        "## Experimentation 1"
      ],
      "metadata": {
        "id": "17ZsrD_8Wg8w"
      }
    },
    {
      "cell_type": "code",
      "source": [
        "dataset = \"synthetic\"\n",
        "# dataset from [\"cifar10\", \"mnist\", \"synthetic\"]\n",
        "num_clients = 1000\n",
        "random_seed = 1\n",
        "dirichlet_alpha = 0.001\n",
        "alpha = 1\n",
        "beta = 1  # needed for synthetic dataset\n",
        "\n",
        "clients, server = initNetworkData(dataset, num_clients, random_seed, alpha, beta)\n",
        "\n",
        "E = 5\n",
        "B = 5\n",
        "T = 400\n",
        "select_fraction = 10/1000\n",
        "parameters = {'clients':clients, 'server':server, 'E':E, 'B':B, 'select_fraction':select_fraction, 'T':T}\n",
        "\n",
        "parameters['dataset'] = dataset\n",
        "parameters['num_clients'] = num_clients\n",
        "parameters['dataset_alpha'] = alpha\n",
        "parameters['dataset_beta'] = beta\n",
        "\n",
        "mu = 0.1\n",
        "alpha = 0.1\n",
        "beta = 1 - alpha\n",
        "decay_factor = 1\n",
        "\n",
        "parameters['mu'] = mu\n",
        "parameters['alpha'] = alpha\n",
        "parameters['beta'] = beta\n",
        "parameters['decay_factor'] = decay_factor\n",
        "\n",
        "parameters['run_mode'] = 'save'"
      ],
      "metadata": {
        "id": "ru_F4Bq-ToDm"
      },
      "execution_count": 12,
      "outputs": []
    },
    {
      "cell_type": "code",
      "source": [
        "clients[100].targets"
      ],
      "metadata": {
        "colab": {
          "base_uri": "https://localhost:8080/"
        },
        "id": "WMLwLEhqH5BI",
        "outputId": "716cfed5-a643-4296-965d-07df1d168e25"
      },
      "execution_count": 13,
      "outputs": [
        {
          "output_type": "execute_result",
          "data": {
            "text/plain": [
              "tensor([7, 7, 7, 7, 7, 7, 7, 7, 7, 7, 7, 7, 7, 7, 7, 7, 7, 7, 7, 7, 7, 7, 7, 7,\n",
              "        7, 7, 7, 7, 7, 7, 7, 7, 7, 7, 7, 7, 7, 7, 7, 7, 7, 7, 7, 7, 7, 7, 7, 7,\n",
              "        7, 7, 7, 7, 7, 7, 7, 7, 7, 7, 7, 7])"
            ]
          },
          "metadata": {},
          "execution_count": 13
        }
      ]
    },
    {
      "cell_type": "code",
      "source": [
        "test_acc = {}\n",
        "train_acc = {}\n",
        "train_loss = {}\n",
        "val_loss = {}\n",
        "test_loss = {}"
      ],
      "metadata": {
        "id": "SknPtIIFICQZ"
      },
      "execution_count": 14,
      "outputs": []
    },
    {
      "cell_type": "code",
      "source": [
        "test_acc[f'fedavg_{dirichlet_alpha}'], train_acc[f'fedavg_{dirichlet_alpha}'], train_loss[f'fedavg_{dirichlet_alpha}'], val_loss[f'fedavg_{dirichlet_alpha}'], test_loss[f'fedavg_{dirichlet_alpha}'] = runs(3, 'fedavg', parameters)"
      ],
      "metadata": {
        "colab": {
          "base_uri": "https://localhost:8080/",
          "height": 432
        },
        "id": "lbDlRUeNIHIM",
        "outputId": "862c95bf-5d8d-4ed3-fc49-b7a0aaee1412"
      },
      "execution_count": 15,
      "outputs": [
        {
          "output_type": "display_data",
          "data": {
            "text/plain": [
              "<IPython.core.display.HTML object>"
            ],
            "text/html": [
              "Tracking run with wandb version 0.15.4"
            ]
          },
          "metadata": {}
        },
        {
          "output_type": "display_data",
          "data": {
            "text/plain": [
              "<IPython.core.display.HTML object>"
            ],
            "text/html": [
              "Run data is saved locally in <code>/content/gdrive/MyDrive/AAU_Project/Goal_Oriented_Federated_Learning/wandb/run-20230705_122216-xjmsnnak</code>"
            ]
          },
          "metadata": {}
        },
        {
          "output_type": "display_data",
          "data": {
            "text/plain": [
              "<IPython.core.display.HTML object>"
            ],
            "text/html": [
              "Syncing run <strong><a href='https://wandb.ai/pringlesinghal/federated-learning-summary/runs/xjmsnnak' target=\"_blank\">dry-wood-792</a></strong> to <a href='https://wandb.ai/pringlesinghal/federated-learning-summary' target=\"_blank\">Weights & Biases</a> (<a href='https://wandb.me/run' target=\"_blank\">docs</a>)<br/>"
            ]
          },
          "metadata": {}
        },
        {
          "output_type": "display_data",
          "data": {
            "text/plain": [
              "<IPython.core.display.HTML object>"
            ],
            "text/html": [
              " View project at <a href='https://wandb.ai/pringlesinghal/federated-learning-summary' target=\"_blank\">https://wandb.ai/pringlesinghal/federated-learning-summary</a>"
            ]
          },
          "metadata": {}
        },
        {
          "output_type": "display_data",
          "data": {
            "text/plain": [
              "<IPython.core.display.HTML object>"
            ],
            "text/html": [
              " View run at <a href='https://wandb.ai/pringlesinghal/federated-learning-summary/runs/xjmsnnak' target=\"_blank\">https://wandb.ai/pringlesinghal/federated-learning-summary/runs/xjmsnnak</a>"
            ]
          },
          "metadata": {}
        },
        {
          "output_type": "stream",
          "name": "stderr",
          "text": [
            "  1%|          | 3/400 [00:02<05:24,  1.23it/s]\n"
          ]
        },
        {
          "output_type": "error",
          "ename": "KeyboardInterrupt",
          "evalue": "ignored",
          "traceback": [
            "\u001b[0;31m---------------------------------------------------------------------------\u001b[0m",
            "\u001b[0;31mKeyboardInterrupt\u001b[0m                         Traceback (most recent call last)",
            "\u001b[0;32m<ipython-input-15-9064924c8a97>\u001b[0m in \u001b[0;36m<cell line: 1>\u001b[0;34m()\u001b[0m\n\u001b[0;32m----> 1\u001b[0;31m \u001b[0mtest_acc\u001b[0m\u001b[0;34m[\u001b[0m\u001b[0;34mf'fedavg_{dirichlet_alpha}'\u001b[0m\u001b[0;34m]\u001b[0m\u001b[0;34m,\u001b[0m \u001b[0mtrain_acc\u001b[0m\u001b[0;34m[\u001b[0m\u001b[0;34mf'fedavg_{dirichlet_alpha}'\u001b[0m\u001b[0;34m]\u001b[0m\u001b[0;34m,\u001b[0m \u001b[0mtrain_loss\u001b[0m\u001b[0;34m[\u001b[0m\u001b[0;34mf'fedavg_{dirichlet_alpha}'\u001b[0m\u001b[0;34m]\u001b[0m\u001b[0;34m,\u001b[0m \u001b[0mval_loss\u001b[0m\u001b[0;34m[\u001b[0m\u001b[0;34mf'fedavg_{dirichlet_alpha}'\u001b[0m\u001b[0;34m]\u001b[0m\u001b[0;34m,\u001b[0m \u001b[0mtest_loss\u001b[0m\u001b[0;34m[\u001b[0m\u001b[0;34mf'fedavg_{dirichlet_alpha}'\u001b[0m\u001b[0;34m]\u001b[0m \u001b[0;34m=\u001b[0m \u001b[0mruns\u001b[0m\u001b[0;34m(\u001b[0m\u001b[0;36m3\u001b[0m\u001b[0;34m,\u001b[0m \u001b[0;34m'fedavg'\u001b[0m\u001b[0;34m,\u001b[0m \u001b[0mparameters\u001b[0m\u001b[0;34m)\u001b[0m\u001b[0;34m\u001b[0m\u001b[0;34m\u001b[0m\u001b[0m\n\u001b[0m",
            "\u001b[0;32m<ipython-input-11-93472916ed95>\u001b[0m in \u001b[0;36mruns\u001b[0;34m(num_runs, algorithm, parameters)\u001b[0m\n\u001b[1;32m    104\u001b[0m   \u001b[0;32mfor\u001b[0m \u001b[0mrun\u001b[0m \u001b[0;32min\u001b[0m \u001b[0mrange\u001b[0m\u001b[0;34m(\u001b[0m\u001b[0mnum_runs\u001b[0m\u001b[0;34m)\u001b[0m\u001b[0;34m:\u001b[0m\u001b[0;34m\u001b[0m\u001b[0;34m\u001b[0m\u001b[0m\n\u001b[1;32m    105\u001b[0m     \u001b[0mparameters\u001b[0m\u001b[0;34m[\u001b[0m\u001b[0;34m'clients'\u001b[0m\u001b[0;34m]\u001b[0m\u001b[0;34m,\u001b[0m \u001b[0mparameters\u001b[0m\u001b[0;34m[\u001b[0m\u001b[0;34m'server'\u001b[0m\u001b[0;34m]\u001b[0m \u001b[0;34m=\u001b[0m \u001b[0minitNetworkData\u001b[0m\u001b[0;34m(\u001b[0m\u001b[0mdataset\u001b[0m\u001b[0;34m,\u001b[0m \u001b[0mnum_clients\u001b[0m\u001b[0;34m,\u001b[0m \u001b[0mrun\u001b[0m\u001b[0;34m,\u001b[0m \u001b[0malpha\u001b[0m\u001b[0;34m,\u001b[0m \u001b[0mbeta\u001b[0m\u001b[0;34m)\u001b[0m\u001b[0;34m\u001b[0m\u001b[0;34m\u001b[0m\u001b[0m\n\u001b[0;32m--> 106\u001b[0;31m     \u001b[0mtest_acc\u001b[0m\u001b[0;34m,\u001b[0m \u001b[0mtrain_acc\u001b[0m\u001b[0;34m,\u001b[0m \u001b[0mtrain_loss\u001b[0m\u001b[0;34m,\u001b[0m \u001b[0mval_loss\u001b[0m\u001b[0;34m,\u001b[0m \u001b[0mtest_loss\u001b[0m \u001b[0;34m=\u001b[0m \u001b[0mrun_once\u001b[0m\u001b[0;34m(\u001b[0m\u001b[0malgorithm\u001b[0m\u001b[0;34m,\u001b[0m \u001b[0mparameters\u001b[0m\u001b[0;34m,\u001b[0m \u001b[0mrandom_seed\u001b[0m \u001b[0;34m=\u001b[0m \u001b[0mrun\u001b[0m\u001b[0;34m)\u001b[0m\u001b[0;34m\u001b[0m\u001b[0;34m\u001b[0m\u001b[0m\n\u001b[0m\u001b[1;32m    107\u001b[0m     \u001b[0;32mif\u001b[0m \u001b[0mrun\u001b[0m \u001b[0;34m==\u001b[0m \u001b[0;36m0\u001b[0m\u001b[0;34m:\u001b[0m\u001b[0;34m\u001b[0m\u001b[0;34m\u001b[0m\u001b[0m\n\u001b[1;32m    108\u001b[0m       \u001b[0mtest_acc_avg\u001b[0m \u001b[0;34m=\u001b[0m \u001b[0mnp\u001b[0m\u001b[0;34m.\u001b[0m\u001b[0marray\u001b[0m\u001b[0;34m(\u001b[0m\u001b[0mtest_acc\u001b[0m\u001b[0;34m)\u001b[0m\u001b[0;34m\u001b[0m\u001b[0;34m\u001b[0m\u001b[0m\n",
            "\u001b[0;32m<ipython-input-11-93472916ed95>\u001b[0m in \u001b[0;36mrun_once\u001b[0;34m(algorithm, parameters, random_seed)\u001b[0m\n\u001b[1;32m     25\u001b[0m \u001b[0;34m\u001b[0m\u001b[0m\n\u001b[1;32m     26\u001b[0m     \u001b[0;32mif\u001b[0m \u001b[0malgorithm\u001b[0m \u001b[0;34m==\u001b[0m \u001b[0;34m'fedavg'\u001b[0m\u001b[0;34m:\u001b[0m\u001b[0;34m\u001b[0m\u001b[0;34m\u001b[0m\u001b[0m\n\u001b[0;32m---> 27\u001b[0;31m         test_acc, train_acc, train_loss, val_loss, test_loss = fed_avg_run(\n\u001b[0m\u001b[1;32m     28\u001b[0m         \u001b[0mclients\u001b[0m\u001b[0;34m,\u001b[0m\u001b[0;34m\u001b[0m\u001b[0;34m\u001b[0m\u001b[0m\n\u001b[1;32m     29\u001b[0m         \u001b[0mserver\u001b[0m\u001b[0;34m,\u001b[0m\u001b[0;34m\u001b[0m\u001b[0;34m\u001b[0m\u001b[0m\n",
            "\u001b[0;32m<ipython-input-9-75822fb91ebc>\u001b[0m in \u001b[0;36mfed_avg_run\u001b[0;34m(clients, server, select_fraction, T, random_seed, E, B, learning_rate, momentum, run_mode)\u001b[0m\n\u001b[1;32m     62\u001b[0m         \u001b[0mtest_acc_now\u001b[0m \u001b[0;34m=\u001b[0m \u001b[0mserver\u001b[0m\u001b[0;34m.\u001b[0m\u001b[0maccuracy\u001b[0m\u001b[0;34m(\u001b[0m\u001b[0;34m)\u001b[0m\u001b[0;34m\u001b[0m\u001b[0;34m\u001b[0m\u001b[0m\n\u001b[1;32m     63\u001b[0m         \u001b[0mtrain_acc_now\u001b[0m \u001b[0;34m=\u001b[0m \u001b[0mnp\u001b[0m\u001b[0;34m.\u001b[0m\u001b[0msum\u001b[0m\u001b[0;34m(\u001b[0m\u001b[0;34m[\u001b[0m\u001b[0mclient_weights\u001b[0m\u001b[0;34m[\u001b[0m\u001b[0mi\u001b[0m\u001b[0;34m]\u001b[0m\u001b[0;34m*\u001b[0m\u001b[0mclients\u001b[0m\u001b[0;34m[\u001b[0m\u001b[0mi\u001b[0m\u001b[0;34m]\u001b[0m\u001b[0;34m.\u001b[0m\u001b[0maccuracy_\u001b[0m\u001b[0;34m(\u001b[0m\u001b[0mserver\u001b[0m\u001b[0;34m.\u001b[0m\u001b[0mmodel\u001b[0m\u001b[0;34m)\u001b[0m \u001b[0;32mfor\u001b[0m \u001b[0mi\u001b[0m \u001b[0;32min\u001b[0m \u001b[0mrange\u001b[0m\u001b[0;34m(\u001b[0m\u001b[0mnum_clients\u001b[0m\u001b[0;34m)\u001b[0m\u001b[0;34m]\u001b[0m\u001b[0;34m)\u001b[0m\u001b[0;34m\u001b[0m\u001b[0;34m\u001b[0m\u001b[0m\n\u001b[0;32m---> 64\u001b[0;31m         \u001b[0mtrain_loss_now\u001b[0m \u001b[0;34m=\u001b[0m \u001b[0mnp\u001b[0m\u001b[0;34m.\u001b[0m\u001b[0msum\u001b[0m\u001b[0;34m(\u001b[0m\u001b[0;34m[\u001b[0m\u001b[0mclient_weights\u001b[0m\u001b[0;34m[\u001b[0m\u001b[0mi\u001b[0m\u001b[0;34m]\u001b[0m\u001b[0;34m*\u001b[0m\u001b[0mclients\u001b[0m\u001b[0;34m[\u001b[0m\u001b[0mi\u001b[0m\u001b[0;34m]\u001b[0m\u001b[0;34m.\u001b[0m\u001b[0mloss\u001b[0m\u001b[0;34m(\u001b[0m\u001b[0mserver\u001b[0m\u001b[0;34m.\u001b[0m\u001b[0mmodel\u001b[0m\u001b[0;34m,\u001b[0m \u001b[0mfed_avg_criterion\u001b[0m\u001b[0;34m(\u001b[0m\u001b[0;34m)\u001b[0m\u001b[0;34m)\u001b[0m \u001b[0;32mfor\u001b[0m \u001b[0mi\u001b[0m \u001b[0;32min\u001b[0m \u001b[0mrange\u001b[0m\u001b[0;34m(\u001b[0m\u001b[0mnum_clients\u001b[0m\u001b[0;34m)\u001b[0m\u001b[0;34m]\u001b[0m\u001b[0;34m)\u001b[0m\u001b[0;34m\u001b[0m\u001b[0;34m\u001b[0m\u001b[0m\n\u001b[0m\u001b[1;32m     65\u001b[0m         \u001b[0mval_loss_now\u001b[0m \u001b[0;34m=\u001b[0m \u001b[0mserver\u001b[0m\u001b[0;34m.\u001b[0m\u001b[0mval_loss\u001b[0m\u001b[0;34m(\u001b[0m\u001b[0mserver\u001b[0m\u001b[0;34m.\u001b[0m\u001b[0mmodel\u001b[0m\u001b[0;34m,\u001b[0m \u001b[0mfed_avg_criterion\u001b[0m\u001b[0;34m(\u001b[0m\u001b[0;34m)\u001b[0m\u001b[0;34m)\u001b[0m\u001b[0;34m\u001b[0m\u001b[0;34m\u001b[0m\u001b[0m\n\u001b[1;32m     66\u001b[0m         \u001b[0mtest_loss_now\u001b[0m \u001b[0;34m=\u001b[0m \u001b[0mserver\u001b[0m\u001b[0;34m.\u001b[0m\u001b[0mtest_loss\u001b[0m\u001b[0;34m(\u001b[0m\u001b[0mfed_avg_criterion\u001b[0m\u001b[0;34m(\u001b[0m\u001b[0;34m)\u001b[0m\u001b[0;34m)\u001b[0m\u001b[0;34m\u001b[0m\u001b[0;34m\u001b[0m\u001b[0m\n",
            "\u001b[0;32m<ipython-input-9-75822fb91ebc>\u001b[0m in \u001b[0;36m<listcomp>\u001b[0;34m(.0)\u001b[0m\n\u001b[1;32m     62\u001b[0m         \u001b[0mtest_acc_now\u001b[0m \u001b[0;34m=\u001b[0m \u001b[0mserver\u001b[0m\u001b[0;34m.\u001b[0m\u001b[0maccuracy\u001b[0m\u001b[0;34m(\u001b[0m\u001b[0;34m)\u001b[0m\u001b[0;34m\u001b[0m\u001b[0;34m\u001b[0m\u001b[0m\n\u001b[1;32m     63\u001b[0m         \u001b[0mtrain_acc_now\u001b[0m \u001b[0;34m=\u001b[0m \u001b[0mnp\u001b[0m\u001b[0;34m.\u001b[0m\u001b[0msum\u001b[0m\u001b[0;34m(\u001b[0m\u001b[0;34m[\u001b[0m\u001b[0mclient_weights\u001b[0m\u001b[0;34m[\u001b[0m\u001b[0mi\u001b[0m\u001b[0;34m]\u001b[0m\u001b[0;34m*\u001b[0m\u001b[0mclients\u001b[0m\u001b[0;34m[\u001b[0m\u001b[0mi\u001b[0m\u001b[0;34m]\u001b[0m\u001b[0;34m.\u001b[0m\u001b[0maccuracy_\u001b[0m\u001b[0;34m(\u001b[0m\u001b[0mserver\u001b[0m\u001b[0;34m.\u001b[0m\u001b[0mmodel\u001b[0m\u001b[0;34m)\u001b[0m \u001b[0;32mfor\u001b[0m \u001b[0mi\u001b[0m \u001b[0;32min\u001b[0m \u001b[0mrange\u001b[0m\u001b[0;34m(\u001b[0m\u001b[0mnum_clients\u001b[0m\u001b[0;34m)\u001b[0m\u001b[0;34m]\u001b[0m\u001b[0;34m)\u001b[0m\u001b[0;34m\u001b[0m\u001b[0;34m\u001b[0m\u001b[0m\n\u001b[0;32m---> 64\u001b[0;31m         \u001b[0mtrain_loss_now\u001b[0m \u001b[0;34m=\u001b[0m \u001b[0mnp\u001b[0m\u001b[0;34m.\u001b[0m\u001b[0msum\u001b[0m\u001b[0;34m(\u001b[0m\u001b[0;34m[\u001b[0m\u001b[0mclient_weights\u001b[0m\u001b[0;34m[\u001b[0m\u001b[0mi\u001b[0m\u001b[0;34m]\u001b[0m\u001b[0;34m*\u001b[0m\u001b[0mclients\u001b[0m\u001b[0;34m[\u001b[0m\u001b[0mi\u001b[0m\u001b[0;34m]\u001b[0m\u001b[0;34m.\u001b[0m\u001b[0mloss\u001b[0m\u001b[0;34m(\u001b[0m\u001b[0mserver\u001b[0m\u001b[0;34m.\u001b[0m\u001b[0mmodel\u001b[0m\u001b[0;34m,\u001b[0m \u001b[0mfed_avg_criterion\u001b[0m\u001b[0;34m(\u001b[0m\u001b[0;34m)\u001b[0m\u001b[0;34m)\u001b[0m \u001b[0;32mfor\u001b[0m \u001b[0mi\u001b[0m \u001b[0;32min\u001b[0m \u001b[0mrange\u001b[0m\u001b[0;34m(\u001b[0m\u001b[0mnum_clients\u001b[0m\u001b[0;34m)\u001b[0m\u001b[0;34m]\u001b[0m\u001b[0;34m)\u001b[0m\u001b[0;34m\u001b[0m\u001b[0;34m\u001b[0m\u001b[0m\n\u001b[0m\u001b[1;32m     65\u001b[0m         \u001b[0mval_loss_now\u001b[0m \u001b[0;34m=\u001b[0m \u001b[0mserver\u001b[0m\u001b[0;34m.\u001b[0m\u001b[0mval_loss\u001b[0m\u001b[0;34m(\u001b[0m\u001b[0mserver\u001b[0m\u001b[0;34m.\u001b[0m\u001b[0mmodel\u001b[0m\u001b[0;34m,\u001b[0m \u001b[0mfed_avg_criterion\u001b[0m\u001b[0;34m(\u001b[0m\u001b[0;34m)\u001b[0m\u001b[0;34m)\u001b[0m\u001b[0;34m\u001b[0m\u001b[0;34m\u001b[0m\u001b[0m\n\u001b[1;32m     66\u001b[0m         \u001b[0mtest_loss_now\u001b[0m \u001b[0;34m=\u001b[0m \u001b[0mserver\u001b[0m\u001b[0;34m.\u001b[0m\u001b[0mtest_loss\u001b[0m\u001b[0;34m(\u001b[0m\u001b[0mfed_avg_criterion\u001b[0m\u001b[0;34m(\u001b[0m\u001b[0;34m)\u001b[0m\u001b[0;34m)\u001b[0m\u001b[0;34m\u001b[0m\u001b[0;34m\u001b[0m\u001b[0m\n",
            "\u001b[0;31mKeyboardInterrupt\u001b[0m: "
          ]
        }
      ]
    },
    {
      "cell_type": "code",
      "source": [
        "# mus = [0.001, 0.01, 0.1, 1]\n",
        "mus = [5,10]\n",
        "for mu in mus:\n",
        "    parameters['mu'] = mu\n",
        "    test_acc[f'fedprox_{mu}'], train_acc[f'fedprox_{mu}'], train_loss[f'fedprox_{mu}'], val_loss[f'fedprox_{mu}'], test_loss[f'fedprox_{mu}'] = runs(3, 'fedprox', parameters)\n"
      ],
      "metadata": {
        "id": "RvPAKs_fVH-S"
      },
      "execution_count": null,
      "outputs": []
    },
    {
      "cell_type": "code",
      "source": [
        "betas = [0.001, 0.01, 0.1, 1]\n",
        "for beta in betas:\n",
        "    parameters['beta'] = beta\n",
        "    test_acc[f'ucb_{beta}'], train_acc[f'ucb_{beta}'], train_loss[f'ucb_{beta}'], val_loss[f'ucb_{beta}'], test_loss[f'ucb_{beta}'] = runs(1, 'ucb', parameters)\n"
      ],
      "metadata": {
        "colab": {
          "base_uri": "https://localhost:8080/",
          "height": 1000
        },
        "id": "Zat2xmvHrj0G",
        "outputId": "2f06623c-8d2a-4727-bb50-e45b6fcb13c1"
      },
      "execution_count": null,
      "outputs": [
        {
          "output_type": "display_data",
          "data": {
            "text/plain": [
              "<IPython.core.display.HTML object>"
            ],
            "text/html": [
              "Finishing last run (ID:xjmsnnak) before initializing another..."
            ]
          },
          "metadata": {}
        },
        {
          "output_type": "display_data",
          "data": {
            "text/plain": [
              "<IPython.core.display.HTML object>"
            ],
            "text/html": [
              "Waiting for W&B process to finish... <strong style=\"color:green\">(success).</strong>"
            ]
          },
          "metadata": {}
        },
        {
          "output_type": "display_data",
          "data": {
            "text/plain": [
              "<IPython.core.display.HTML object>"
            ],
            "text/html": [
              "<style>\n",
              "    table.wandb td:nth-child(1) { padding: 0 10px; text-align: left ; width: auto;} td:nth-child(2) {text-align: left ; width: 100%}\n",
              "    .wandb-row { display: flex; flex-direction: row; flex-wrap: wrap; justify-content: flex-start; width: 100% }\n",
              "    .wandb-col { display: flex; flex-direction: column; flex-basis: 100%; flex: 1; padding: 10px; }\n",
              "    </style>\n",
              "<div class=\"wandb-row\"><div class=\"wandb-col\"><h3>Run history:</h3><br/><table class=\"wandb\"><tr><td>test_accuracy</td><td>▂▁█</td></tr><tr><td>test_loss</td><td>█▄▁</td></tr><tr><td>train_accuracy</td><td>▁▂█</td></tr><tr><td>train_loss</td><td>█▄▁</td></tr><tr><td>val_loss</td><td>█▄▁</td></tr></table><br/></div><div class=\"wandb-col\"><h3>Run summary:</h3><br/><table class=\"wandb\"><tr><td>test_accuracy</td><td>0.1186</td></tr><tr><td>test_loss</td><td>2.49433</td></tr><tr><td>train_accuracy</td><td>0.11827</td></tr><tr><td>train_loss</td><td>2.50027</td></tr><tr><td>val_loss</td><td>2.49407</td></tr></table><br/></div></div>"
            ]
          },
          "metadata": {}
        },
        {
          "output_type": "display_data",
          "data": {
            "text/plain": [
              "<IPython.core.display.HTML object>"
            ],
            "text/html": [
              " View run <strong style=\"color:#cdcd00\">dry-wood-792</strong> at: <a href='https://wandb.ai/pringlesinghal/federated-learning-summary/runs/xjmsnnak' target=\"_blank\">https://wandb.ai/pringlesinghal/federated-learning-summary/runs/xjmsnnak</a><br/>Synced 5 W&B file(s), 0 media file(s), 0 artifact file(s) and 0 other file(s)"
            ]
          },
          "metadata": {}
        },
        {
          "output_type": "display_data",
          "data": {
            "text/plain": [
              "<IPython.core.display.HTML object>"
            ],
            "text/html": [
              "Find logs at: <code>./wandb/run-20230705_122216-xjmsnnak/logs</code>"
            ]
          },
          "metadata": {}
        },
        {
          "output_type": "display_data",
          "data": {
            "text/plain": [
              "<IPython.core.display.HTML object>"
            ],
            "text/html": [
              "Successfully finished last run (ID:xjmsnnak). Initializing new run:<br/>"
            ]
          },
          "metadata": {}
        },
        {
          "output_type": "display_data",
          "data": {
            "text/plain": [
              "<IPython.core.display.HTML object>"
            ],
            "text/html": [
              "Tracking run with wandb version 0.15.4"
            ]
          },
          "metadata": {}
        },
        {
          "output_type": "display_data",
          "data": {
            "text/plain": [
              "<IPython.core.display.HTML object>"
            ],
            "text/html": [
              "Run data is saved locally in <code>/content/gdrive/MyDrive/AAU_Project/Goal_Oriented_Federated_Learning/wandb/run-20230705_122231-1j6826rk</code>"
            ]
          },
          "metadata": {}
        },
        {
          "output_type": "display_data",
          "data": {
            "text/plain": [
              "<IPython.core.display.HTML object>"
            ],
            "text/html": [
              "Syncing run <strong><a href='https://wandb.ai/pringlesinghal/federated-learning-summary/runs/1j6826rk' target=\"_blank\">true-universe-793</a></strong> to <a href='https://wandb.ai/pringlesinghal/federated-learning-summary' target=\"_blank\">Weights & Biases</a> (<a href='https://wandb.me/run' target=\"_blank\">docs</a>)<br/>"
            ]
          },
          "metadata": {}
        },
        {
          "output_type": "display_data",
          "data": {
            "text/plain": [
              "<IPython.core.display.HTML object>"
            ],
            "text/html": [
              " View project at <a href='https://wandb.ai/pringlesinghal/federated-learning-summary' target=\"_blank\">https://wandb.ai/pringlesinghal/federated-learning-summary</a>"
            ]
          },
          "metadata": {}
        },
        {
          "output_type": "display_data",
          "data": {
            "text/plain": [
              "<IPython.core.display.HTML object>"
            ],
            "text/html": [
              " View run at <a href='https://wandb.ai/pringlesinghal/federated-learning-summary/runs/1j6826rk' target=\"_blank\">https://wandb.ai/pringlesinghal/federated-learning-summary/runs/1j6826rk</a>"
            ]
          },
          "metadata": {}
        },
        {
          "output_type": "stream",
          "name": "stderr",
          "text": [
            "\r  0%|          | 0/400 [00:00<?, ?it/s]"
          ]
        },
        {
          "output_type": "stream",
          "name": "stdout",
          "text": [
            "server evaluations = 0\n",
            "starting MC\n",
            "server evaluations = 2000\n",
            "starting TMC\n",
            "not converged in SV TMC\n",
            "SV_TMC = [0.022642313480377197, 0.03928746747970582, -0.07459447288513195, -0.009338062763214108, 0.021088510990142816, -0.020995267391204827, -0.01094808530807495, 0.043149309635162336, 0.02840247201919556, -0.035040812015533475]\n",
            "server evaluations = 4887\n",
            "starting True\n",
            "server evaluations = 1024\n",
            "starting GTG\n"
          ]
        },
        {
          "output_type": "stream",
          "name": "stderr",
          "text": [
            "<ipython-input-9-75822fb91ebc>:546: RuntimeWarning: invalid value encountered in double_scalars\n",
            "  UCB[i] = SV[i] + beta * np.sqrt(np.log(t + 1) / N_t[i])\n",
            "\r  0%|          | 1/400 [00:50<5:37:46, 50.79s/it]"
          ]
        },
        {
          "output_type": "stream",
          "name": "stdout",
          "text": [
            "server evaluations = 0\n",
            "starting MC\n",
            "server evaluations = 2000\n",
            "starting TMC\n",
            "SV_TMC = [-0.03784252206484478, -0.03743178459505237, 0.007218596215049426, 0.04644314137597877, 0.06147619833548862, 0.04362161333362263, 0.06513679710527263, -0.013081072519222905, 0.026879278942942595, 0.03643108780185383]\n",
            "server evaluations = 3667\n",
            "starting True\n",
            "server evaluations = 1024\n",
            "starting GTG\n"
          ]
        },
        {
          "output_type": "stream",
          "name": "stderr",
          "text": [
            "<ipython-input-9-75822fb91ebc>:546: RuntimeWarning: divide by zero encountered in double_scalars\n",
            "  UCB[i] = SV[i] + beta * np.sqrt(np.log(t + 1) / N_t[i])\n",
            "\r  0%|          | 2/400 [01:32<5:01:55, 45.52s/it]"
          ]
        },
        {
          "output_type": "stream",
          "name": "stdout",
          "text": [
            "server evaluations = 0\n",
            "starting MC\n",
            "server evaluations = 2000\n",
            "starting TMC\n",
            "not converged in SV TMC\n",
            "SV_TMC = [-0.1773180327415467, 0.017661647796630865, 0.020269420623779275, -0.0023056888580322283, 0.0021026597023010157, 0.013007457733154293, 0.060264678955078116, 0.05463143014907837, 0.046151484966278064, -0.026653741836547853]\n",
            "server evaluations = 4796\n",
            "starting True\n",
            "server evaluations = 1024\n",
            "starting GTG\n"
          ]
        },
        {
          "output_type": "stream",
          "name": "stderr",
          "text": [
            "\r  1%|          | 3/400 [02:21<5:12:32, 47.24s/it]"
          ]
        },
        {
          "output_type": "stream",
          "name": "stdout",
          "text": [
            "server evaluations = 0\n",
            "starting MC\n",
            "server evaluations = 2000\n",
            "starting TMC\n"
          ]
        }
      ]
    },
    {
      "cell_type": "code",
      "source": [
        "# for mu in mus:\n",
        "#     plt.plot(train_acc[f'fedprox_{mu}'], label = 'train accuracy'+f' fedprox mu = {mu}')\n",
        "for beta in betas:\n",
        "    plt.plot(train_acc[f'ucb_{beta}'], label = 'train accuracy'+f' ucb beta = {beta}')\n",
        "plt.plot(train_acc['fedavg'], label = 'train accuracy'+ f' fedavg')\n",
        "plt.legend()\n",
        "plt.show()\n",
        "\n",
        "# for mu in mus:\n",
        "#     plt.plot(test_acc[f'fedprox_{mu}'], label ='test accuracy'+f' fedprox mu = {mu}')\n",
        "for beta in betas:\n",
        "    plt.plot(test_acc[f'ucb_{beta}'], label = 'test accuracy'+f' ucb beta = {beta}')\n",
        "plt.plot(test_acc['fedavg'], label ='test accuracy'+ f' fedavg')\n",
        "plt.legend()\n",
        "plt.show()\n",
        "\n",
        "# for mu in mus:\n",
        "#     plt.plot(train_loss[f'fedprox_{mu}'], label = 'train loss: '+f'fedprox_{mu}')\n",
        "#     plt.plot(test_loss[f'fedprox_{mu}'], label = 'test_loss: '+f'fedprox_{mu}')\n",
        "#     plt.plot(val_loss[f'fedprox_{mu}'], label = 'val loss: '+f'fedprox_{mu}')\n",
        "\n",
        "for beta in betas:\n",
        "    plt.plot(train_loss[f'ucb_{beta}'], label = 'train loss: '+f'ucb beta = {beta}')\n",
        "    plt.plot(test_loss[f'ucb_{beta}'], label = 'test_loss: '+f'ucb beta = {beta}')\n",
        "    plt.plot(val_loss[f'ucb_{beta}'], label = 'val loss: '+f'ucb beta = {beta}')\n",
        "\n",
        "\n",
        "plt.plot(train_loss['fedavg'], label='train loss '+ 'fedavg')\n",
        "plt.plot(val_loss['fedavg'], label='val loss '+ 'fedavg')\n",
        "plt.plot(test_loss['fedavg'], label='test loss '+ 'fedavg')\n",
        "plt.legend()\n",
        "plt.plot()"
      ],
      "metadata": {
        "colab": {
          "base_uri": "https://localhost:8080/",
          "height": 1000
        },
        "id": "rP6Ze2KQV6E4",
        "outputId": "be52dfc6-937c-436b-b2a4-40c8df275cf7"
      },
      "execution_count": 69,
      "outputs": [
        {
          "output_type": "display_data",
          "data": {
            "text/plain": [
              "<Figure size 640x480 with 1 Axes>"
            ],
            "image/png": "[encoded data removed]"
          },
          "metadata": {}
        },
        {
          "output_type": "display_data",
          "data": {
            "text/plain": [
              "<Figure size 640x480 with 1 Axes>"
            ],
            "image/png": "[encoded data removed]"
          },
          "metadata": {}
        },
        {
          "output_type": "execute_result",
          "data": {
            "text/plain": [
              "[]"
            ]
          },
          "metadata": {},
          "execution_count": 69
        },
        {
          "output_type": "display_data",
          "data": {
            "text/plain": [
              "<Figure size 640x480 with 1 Axes>"
            ],
            "image/png": "[encoded data removed]"
          },
          "metadata": {}
        }
      ]
    },
    {
      "cell_type": "code",
      "source": [
        "(train_acc['fedavg'] - test_acc['fedavg'])*100"
      ],
      "metadata": {
        "colab": {
          "base_uri": "https://localhost:8080/"
        },
        "id": "SN8iEx0ko39v",
        "outputId": "12eef7b9-6848-42dc-de34-10b2c81d78db"
      },
      "execution_count": 61,
      "outputs": [
        {
          "output_type": "execute_result",
          "data": {
            "text/plain": [
              "array([-0.12971451, -0.08188042, -0.16027719, -0.13583888, -0.09250249,\n",
              "       -0.12144281, -0.16090629, -0.07807781, -0.10311097, -0.10145299,\n",
              "       -0.16150692, -0.12647841, -0.15984915, -0.15098235, -0.16044546,\n",
              "       -0.03925668, -0.1493333 , -0.17100481,  0.01467322,  0.07747999,\n",
              "        0.07802272,  0.00575253,  0.04800592, -0.02371331, -0.02429941,\n",
              "       -0.09159485,  0.00681494,  0.08909507,  0.17307794, -0.01263342,\n",
              "       -0.06268024, -0.01099147,  0.1135574 ,  0.19473829,  0.15860685,\n",
              "        0.10634135, -0.03715693,  0.05180864,  0.15910769,  0.14799479,\n",
              "        0.1630322 ,  0.21142251,  0.1252105 ,  0.13686528,  0.10516936,\n",
              "        0.1023782 ,  0.11293916,  0.10962159,  0.06845428,  0.09571014])"
            ]
          },
          "metadata": {},
          "execution_count": 61
        }
      ]
    },
    {
      "cell_type": "markdown",
      "source": [
        "## Experimentation"
      ],
      "metadata": {
        "id": "8IyWwmlMNBgt"
      }
    },
    {
      "cell_type": "code",
      "source": [
        "dataset = \"synthetic\"\n",
        "# dataset from [\"cifar10\", \"mnist\", \"synthetic\"]\n",
        "num_clients = 100\n",
        "random_seed = 10\n",
        "alpha = 0.5\n",
        "beta = 0.5  # needed for synthetic dataset\n",
        "\n",
        "clients, server = initNetworkData(dataset, num_clients, random_seed, alpha, beta)\n",
        "# wandb_config[\"dataset\"] = dataset\n",
        "# wandb_config[\"num_clients\"] = num_clients\n",
        "# wandb_config[\"alpha\"] = alpha\n",
        "# wandb_config[\"beta\"] = beta\n",
        "# wandb_config[\"clients\"] = clients\n",
        "# wandb_config[\"server\"] = server\n",
        "\n",
        "T = 101  # number of communications rounds\n",
        "select_fraction = 0.03\n",
        "# wandb_config[\"num_communication_rounds\"] = T\n",
        "# wandb_config[\"select_fraction\"] = select_fraction\n",
        "random_seed = 1"
      ],
      "metadata": {
        "id": "m4eQBF3YNEtB"
      },
      "execution_count": 11,
      "outputs": []
    },
    {
      "cell_type": "code",
      "source": [
        "num_samples = [client.length for client in clients]\n",
        "(np.mean(num_samples), np.std(num_samples))"
      ],
      "metadata": {
        "colab": {
          "base_uri": "https://localhost:8080/"
        },
        "id": "vO4ekZ4pHCU8",
        "outputId": "20d86eb0-91c2-4b9b-8e8f-56f6f11ede04"
      },
      "execution_count": 14,
      "outputs": [
        {
          "output_type": "execute_result",
          "data": {
            "text/plain": [
              "(599.5, 152.29743924308116)"
            ]
          },
          "metadata": {},
          "execution_count": 14
        }
      ]
    },
    {
      "cell_type": "code",
      "source": [
        "acc_fedprox = {}\n",
        "mus = [0.001, 0.01, 0.1, 1, 10, 100]\n",
        "for mu in mus:\n",
        "  acc_fedprox[mu], loss_fedprox[mu] = fedprox_runs(mu, runs)"
      ],
      "metadata": {
        "id": "8pZW6fHjHjk1"
      },
      "execution_count": null,
      "outputs": []
    },
    {
      "cell_type": "code",
      "source": [
        "# initialise some dataset split\n",
        "# run fedavg\n",
        "# run power of choice\n",
        "acc_fedavg = fedavg_runs(10)\n",
        "\n",
        "decay_factor = 0.9\n",
        "acc_poc = poc_runs(0.9, 10)"
      ],
      "metadata": {
        "colab": {
          "base_uri": "https://localhost:8080/",
          "height": 397
        },
        "id": "te8Z8nT_Oiui",
        "outputId": "27cf1500-ee0b-4282-c356-0567b5b57b6e"
      },
      "execution_count": 12,
      "outputs": [
        {
          "output_type": "stream",
          "name": "stderr",
          "text": [
            "  0%|          | 0/101 [00:03<?, ?it/s]\n"
          ]
        },
        {
          "output_type": "error",
          "ename": "KeyboardInterrupt",
          "evalue": "ignored",
          "traceback": [
            "\u001b[0;31m---------------------------------------------------------------------------\u001b[0m",
            "\u001b[0;31mKeyboardInterrupt\u001b[0m                         Traceback (most recent call last)",
            "\u001b[0;32m<ipython-input-12-66bb1e639cea>\u001b[0m in \u001b[0;36m<cell line: 4>\u001b[0;34m()\u001b[0m\n\u001b[1;32m      2\u001b[0m \u001b[0;31m# run fedavg\u001b[0m\u001b[0;34m\u001b[0m\u001b[0;34m\u001b[0m\u001b[0m\n\u001b[1;32m      3\u001b[0m \u001b[0;31m# run power of choice\u001b[0m\u001b[0;34m\u001b[0m\u001b[0;34m\u001b[0m\u001b[0m\n\u001b[0;32m----> 4\u001b[0;31m \u001b[0macc_fedavg\u001b[0m \u001b[0;34m=\u001b[0m \u001b[0mfedavg_runs\u001b[0m\u001b[0;34m(\u001b[0m\u001b[0;36m10\u001b[0m\u001b[0;34m)\u001b[0m\u001b[0;34m\u001b[0m\u001b[0;34m\u001b[0m\u001b[0m\n\u001b[0m\u001b[1;32m      5\u001b[0m \u001b[0;34m\u001b[0m\u001b[0m\n\u001b[1;32m      6\u001b[0m \u001b[0mdecay_factor\u001b[0m \u001b[0;34m=\u001b[0m \u001b[0;36m0.9\u001b[0m\u001b[0;34m\u001b[0m\u001b[0;34m\u001b[0m\u001b[0m\n",
            "\u001b[0;32m<ipython-input-10-b8279695675a>\u001b[0m in \u001b[0;36mfedavg_runs\u001b[0;34m(runs)\u001b[0m\n\u001b[1;32m     40\u001b[0m     \u001b[0mavg_accuracy_list\u001b[0m \u001b[0;34m=\u001b[0m \u001b[0;34m[\u001b[0m\u001b[0;34m]\u001b[0m\u001b[0;34m\u001b[0m\u001b[0;34m\u001b[0m\u001b[0m\n\u001b[1;32m     41\u001b[0m     \u001b[0;32mfor\u001b[0m \u001b[0mrun\u001b[0m \u001b[0;32min\u001b[0m \u001b[0mrange\u001b[0m\u001b[0;34m(\u001b[0m\u001b[0mruns\u001b[0m\u001b[0;34m)\u001b[0m\u001b[0;34m:\u001b[0m\u001b[0;34m\u001b[0m\u001b[0;34m\u001b[0m\u001b[0m\n\u001b[0;32m---> 42\u001b[0;31m         accuracy_list, *_ = fed_avg_run(\n\u001b[0m\u001b[1;32m     43\u001b[0m             \u001b[0mdeepcopy\u001b[0m\u001b[0;34m(\u001b[0m\u001b[0mclients\u001b[0m\u001b[0;34m)\u001b[0m\u001b[0;34m,\u001b[0m\u001b[0;34m\u001b[0m\u001b[0;34m\u001b[0m\u001b[0m\n\u001b[1;32m     44\u001b[0m             \u001b[0mdeepcopy\u001b[0m\u001b[0;34m(\u001b[0m\u001b[0mserver\u001b[0m\u001b[0;34m)\u001b[0m\u001b[0;34m,\u001b[0m\u001b[0;34m\u001b[0m\u001b[0;34m\u001b[0m\u001b[0m\n",
            "\u001b[0;32m<ipython-input-9-cad96cce7917>\u001b[0m in \u001b[0;36mfed_avg_run\u001b[0;34m(clients, server, select_fraction, T, random_seed, E, B, learning_rate, momentum, run_mode)\u001b[0m\n\u001b[1;32m     43\u001b[0m             \u001b[0;32mif\u001b[0m \u001b[0mselected_status\u001b[0m\u001b[0;34m[\u001b[0m\u001b[0midx\u001b[0m\u001b[0;34m]\u001b[0m\u001b[0;34m:\u001b[0m\u001b[0;34m\u001b[0m\u001b[0;34m\u001b[0m\u001b[0m\n\u001b[1;32m     44\u001b[0m                 \u001b[0;31m# perform descent at client\u001b[0m\u001b[0;34m\u001b[0m\u001b[0;34m\u001b[0m\u001b[0m\n\u001b[0;32m---> 45\u001b[0;31m                 client_state = client.train(\n\u001b[0m\u001b[1;32m     46\u001b[0m                     \u001b[0mserver\u001b[0m\u001b[0;34m.\u001b[0m\u001b[0mmodel\u001b[0m\u001b[0;34m,\u001b[0m\u001b[0;34m\u001b[0m\u001b[0;34m\u001b[0m\u001b[0m\n\u001b[1;32m     47\u001b[0m                     \u001b[0mcriterion\u001b[0m\u001b[0;34m=\u001b[0m\u001b[0mfed_avg_criterion\u001b[0m\u001b[0;34m(\u001b[0m\u001b[0;34m)\u001b[0m\u001b[0;34m,\u001b[0m\u001b[0;34m\u001b[0m\u001b[0;34m\u001b[0m\u001b[0m\n",
            "\u001b[0;32m<ipython-input-5-517de794e270>\u001b[0m in \u001b[0;36mtrain\u001b[0;34m(self, serverModel, criterion, E, B, learning_rate, momentum)\u001b[0m\n\u001b[1;32m     28\u001b[0m                 \u001b[0mdata_batch\u001b[0m\u001b[0;34m,\u001b[0m \u001b[0mtargets_batch\u001b[0m \u001b[0;34m=\u001b[0m \u001b[0mself\u001b[0m\u001b[0;34m.\u001b[0m\u001b[0mget_subset\u001b[0m\u001b[0;34m(\u001b[0m\u001b[0mbatch_indices\u001b[0m\u001b[0;34m[\u001b[0m\u001b[0mbatch\u001b[0m\u001b[0;34m]\u001b[0m\u001b[0;34m)\u001b[0m\u001b[0;34m\u001b[0m\u001b[0;34m\u001b[0m\u001b[0m\n\u001b[1;32m     29\u001b[0m                 \u001b[0mclientOptimiser\u001b[0m\u001b[0;34m.\u001b[0m\u001b[0mzero_grad\u001b[0m\u001b[0;34m(\u001b[0m\u001b[0;34m)\u001b[0m\u001b[0;34m\u001b[0m\u001b[0;34m\u001b[0m\u001b[0m\n\u001b[0;32m---> 30\u001b[0;31m                 \u001b[0mloss\u001b[0m \u001b[0;34m=\u001b[0m \u001b[0mcriterion\u001b[0m\u001b[0;34m(\u001b[0m\u001b[0mclientModel\u001b[0m\u001b[0;34m,\u001b[0m \u001b[0mdata_batch\u001b[0m\u001b[0;34m,\u001b[0m \u001b[0mtargets_batch\u001b[0m\u001b[0;34m)\u001b[0m\u001b[0;34m\u001b[0m\u001b[0;34m\u001b[0m\u001b[0m\n\u001b[0m\u001b[1;32m     31\u001b[0m                 \u001b[0mloss\u001b[0m\u001b[0;34m.\u001b[0m\u001b[0mbackward\u001b[0m\u001b[0;34m(\u001b[0m\u001b[0;34m)\u001b[0m\u001b[0;34m\u001b[0m\u001b[0;34m\u001b[0m\u001b[0m\n\u001b[1;32m     32\u001b[0m                 \u001b[0mclientOptimiser\u001b[0m\u001b[0;34m.\u001b[0m\u001b[0mstep\u001b[0m\u001b[0;34m(\u001b[0m\u001b[0;34m)\u001b[0m\u001b[0;34m\u001b[0m\u001b[0;34m\u001b[0m\u001b[0m\n",
            "\u001b[0;32m<ipython-input-8-8e468f310e1c>\u001b[0m in \u001b[0;36mloss\u001b[0;34m(model, data, targets)\u001b[0m\n\u001b[1;32m     25\u001b[0m     \u001b[0;32mdef\u001b[0m \u001b[0mloss\u001b[0m\u001b[0;34m(\u001b[0m\u001b[0mmodel\u001b[0m\u001b[0;34m,\u001b[0m \u001b[0mdata\u001b[0m\u001b[0;34m,\u001b[0m \u001b[0mtargets\u001b[0m\u001b[0;34m)\u001b[0m\u001b[0;34m:\u001b[0m\u001b[0;34m\u001b[0m\u001b[0;34m\u001b[0m\u001b[0m\n\u001b[1;32m     26\u001b[0m         \u001b[0mcriterion\u001b[0m \u001b[0;34m=\u001b[0m \u001b[0mtorch\u001b[0m\u001b[0;34m.\u001b[0m\u001b[0mnn\u001b[0m\u001b[0;34m.\u001b[0m\u001b[0mCrossEntropyLoss\u001b[0m\u001b[0;34m(\u001b[0m\u001b[0;34m)\u001b[0m\u001b[0;34m\u001b[0m\u001b[0;34m\u001b[0m\u001b[0m\n\u001b[0;32m---> 27\u001b[0;31m         \u001b[0mscores\u001b[0m \u001b[0;34m=\u001b[0m \u001b[0mmodel\u001b[0m\u001b[0;34m(\u001b[0m\u001b[0mdata\u001b[0m\u001b[0;34m)\u001b[0m\u001b[0;34m\u001b[0m\u001b[0;34m\u001b[0m\u001b[0m\n\u001b[0m\u001b[1;32m     28\u001b[0m         \u001b[0;32mreturn\u001b[0m \u001b[0mcriterion\u001b[0m\u001b[0;34m(\u001b[0m\u001b[0mscores\u001b[0m\u001b[0;34m,\u001b[0m \u001b[0mtargets\u001b[0m\u001b[0;34m)\u001b[0m\u001b[0;34m\u001b[0m\u001b[0;34m\u001b[0m\u001b[0m\n\u001b[1;32m     29\u001b[0m \u001b[0;34m\u001b[0m\u001b[0m\n",
            "\u001b[0;32m/usr/local/lib/python3.10/dist-packages/torch/nn/modules/module.py\u001b[0m in \u001b[0;36m_call_impl\u001b[0;34m(self, *args, **kwargs)\u001b[0m\n\u001b[1;32m   1499\u001b[0m                 \u001b[0;32mor\u001b[0m \u001b[0m_global_backward_pre_hooks\u001b[0m \u001b[0;32mor\u001b[0m \u001b[0m_global_backward_hooks\u001b[0m\u001b[0;34m\u001b[0m\u001b[0;34m\u001b[0m\u001b[0m\n\u001b[1;32m   1500\u001b[0m                 or _global_forward_hooks or _global_forward_pre_hooks):\n\u001b[0;32m-> 1501\u001b[0;31m             \u001b[0;32mreturn\u001b[0m \u001b[0mforward_call\u001b[0m\u001b[0;34m(\u001b[0m\u001b[0;34m*\u001b[0m\u001b[0margs\u001b[0m\u001b[0;34m,\u001b[0m \u001b[0;34m**\u001b[0m\u001b[0mkwargs\u001b[0m\u001b[0;34m)\u001b[0m\u001b[0;34m\u001b[0m\u001b[0;34m\u001b[0m\u001b[0m\n\u001b[0m\u001b[1;32m   1502\u001b[0m         \u001b[0;31m# Do not call functions when jit is used\u001b[0m\u001b[0;34m\u001b[0m\u001b[0;34m\u001b[0m\u001b[0m\n\u001b[1;32m   1503\u001b[0m         \u001b[0mfull_backward_hooks\u001b[0m\u001b[0;34m,\u001b[0m \u001b[0mnon_full_backward_hooks\u001b[0m \u001b[0;34m=\u001b[0m \u001b[0;34m[\u001b[0m\u001b[0;34m]\u001b[0m\u001b[0;34m,\u001b[0m \u001b[0;34m[\u001b[0m\u001b[0;34m]\u001b[0m\u001b[0;34m\u001b[0m\u001b[0;34m\u001b[0m\u001b[0m\n",
            "\u001b[0;32m/content/gdrive/MyDrive/AAU_Project/Goal_Oriented_Federated_Learning/model.py\u001b[0m in \u001b[0;36mforward\u001b[0;34m(self, x)\u001b[0m\n\u001b[1;32m     14\u001b[0m \u001b[0;34m\u001b[0m\u001b[0m\n\u001b[1;32m     15\u001b[0m     \u001b[0;32mdef\u001b[0m \u001b[0mforward\u001b[0m\u001b[0;34m(\u001b[0m\u001b[0mself\u001b[0m\u001b[0;34m,\u001b[0m \u001b[0mx\u001b[0m\u001b[0;34m)\u001b[0m\u001b[0;34m:\u001b[0m\u001b[0;34m\u001b[0m\u001b[0;34m\u001b[0m\u001b[0m\n\u001b[0;32m---> 16\u001b[0;31m         \u001b[0mx\u001b[0m \u001b[0;34m=\u001b[0m \u001b[0mF\u001b[0m\u001b[0;34m.\u001b[0m\u001b[0mrelu\u001b[0m\u001b[0;34m(\u001b[0m\u001b[0mself\u001b[0m\u001b[0;34m.\u001b[0m\u001b[0mfc1\u001b[0m\u001b[0;34m(\u001b[0m\u001b[0mx\u001b[0m\u001b[0;34m)\u001b[0m\u001b[0;34m)\u001b[0m\u001b[0;34m\u001b[0m\u001b[0;34m\u001b[0m\u001b[0m\n\u001b[0m\u001b[1;32m     17\u001b[0m         \u001b[0mx\u001b[0m \u001b[0;34m=\u001b[0m \u001b[0mF\u001b[0m\u001b[0;34m.\u001b[0m\u001b[0mrelu\u001b[0m\u001b[0;34m(\u001b[0m\u001b[0mself\u001b[0m\u001b[0;34m.\u001b[0m\u001b[0mfc2\u001b[0m\u001b[0;34m(\u001b[0m\u001b[0mx\u001b[0m\u001b[0;34m)\u001b[0m\u001b[0;34m)\u001b[0m\u001b[0;34m\u001b[0m\u001b[0;34m\u001b[0m\u001b[0m\n\u001b[1;32m     18\u001b[0m         \u001b[0mx\u001b[0m \u001b[0;34m=\u001b[0m \u001b[0mself\u001b[0m\u001b[0;34m.\u001b[0m\u001b[0mfc3\u001b[0m\u001b[0;34m(\u001b[0m\u001b[0mx\u001b[0m\u001b[0;34m)\u001b[0m\u001b[0;34m\u001b[0m\u001b[0;34m\u001b[0m\u001b[0m\n",
            "\u001b[0;32m/usr/local/lib/python3.10/dist-packages/torch/nn/functional.py\u001b[0m in \u001b[0;36mrelu\u001b[0;34m(input, inplace)\u001b[0m\n\u001b[1;32m   1455\u001b[0m         \u001b[0mresult\u001b[0m \u001b[0;34m=\u001b[0m \u001b[0mtorch\u001b[0m\u001b[0;34m.\u001b[0m\u001b[0mrelu_\u001b[0m\u001b[0;34m(\u001b[0m\u001b[0minput\u001b[0m\u001b[0;34m)\u001b[0m\u001b[0;34m\u001b[0m\u001b[0;34m\u001b[0m\u001b[0m\n\u001b[1;32m   1456\u001b[0m     \u001b[0;32melse\u001b[0m\u001b[0;34m:\u001b[0m\u001b[0;34m\u001b[0m\u001b[0;34m\u001b[0m\u001b[0m\n\u001b[0;32m-> 1457\u001b[0;31m         \u001b[0mresult\u001b[0m \u001b[0;34m=\u001b[0m \u001b[0mtorch\u001b[0m\u001b[0;34m.\u001b[0m\u001b[0mrelu\u001b[0m\u001b[0;34m(\u001b[0m\u001b[0minput\u001b[0m\u001b[0;34m)\u001b[0m\u001b[0;34m\u001b[0m\u001b[0;34m\u001b[0m\u001b[0m\n\u001b[0m\u001b[1;32m   1458\u001b[0m     \u001b[0;32mreturn\u001b[0m \u001b[0mresult\u001b[0m\u001b[0;34m\u001b[0m\u001b[0;34m\u001b[0m\u001b[0m\n\u001b[1;32m   1459\u001b[0m \u001b[0;34m\u001b[0m\u001b[0m\n",
            "\u001b[0;31mKeyboardInterrupt\u001b[0m: "
          ]
        }
      ]
    },
    {
      "cell_type": "code",
      "source": [
        "plt.plot(acc_fedavg, label = 'fedavg')\n",
        "\n",
        "plt.plot(acc_poc, label = 'poc')\n",
        "plt.legend()\n",
        "plt.show()"
      ],
      "metadata": {
        "id": "wmCTSfMzQyGD"
      },
      "execution_count": null,
      "outputs": []
    },
    {
      "cell_type": "code",
      "source": [
        "# poc runs\n",
        "runs = 10\n",
        "for run in range(runs):\n",
        "    clients, server = initNetworkData(dataset, num_clients, run, alpha, beta)\n",
        "    accuracy_list_poc, val_loss_poc, test_loss_poc, client_accuracies_poc = power_of_choice_run(\n",
        "        deepcopy(clients),\n",
        "        deepcopy(server),\n",
        "        select_fraction,\n",
        "        T,\n",
        "        decay_factor=1,\n",
        "        random_seed=random_seed,\n",
        "        E = 1\n",
        "    )\n",
        "    accuracy_list_fedavg, val_loss_fedavg, test_loss_fedavg, client_accuracies_fedavg = fed_avg_run(\n",
        "        deepcopy(clients),\n",
        "        deepcopy(server),\n",
        "        select_fraction,\n",
        "        T,\n",
        "        random_seed=run,\n",
        "        E = 1\n",
        "    )\n",
        "    accuracy_list_fedprox, val_loss_fedprox, test_loss_fedprox, client_accuracies_fedprox = fed_prox_run(\n",
        "            deepcopy(clients),\n",
        "            deepcopy(server),\n",
        "            select_fraction,\n",
        "            T,\n",
        "            mu=mu,\n",
        "            random_seed=random_seed,\n",
        "        )\n",
        "    accuracy_list_poc = np.array(accuracy_list_poc)\n",
        "    accuracy_list_fedavg = np.array(accuracy_list_fedavg)\n",
        "\n",
        "    val_loss_poc = np.array(val_loss_poc)\n",
        "    val_loss_fedavg = np.array(val_loss_fedavg)\n",
        "\n",
        "    test_loss_poc = np.array(test_loss_poc)\n",
        "    test_loss_fedavg = np.array(test_loss_fedavg)\n",
        "\n",
        "    client_accuracies_poc = np.array([np.array(x) for x in client_accuracies_poc])\n",
        "    client_accuracies_fedavg = np.array([np.array(x) for x in client_accuracies_fedavg])\n",
        "\n",
        "    weights = np.array([client.length for client in clients])\n",
        "    weights = weights/np.sum(weights)\n",
        "    train_accuracy_poc = weights @ client_accuracies_poc\n",
        "    train_accuracy_fedavg = weights @ client_accuracies_fedavg\n",
        "\n",
        "    if run == 0:\n",
        "        avg_accuracy_list_fedavg = deepcopy(accuracy_list_fedavg)\n",
        "        avg_accuracy_list_poc = deepcopy(accuracy_list_poc)\n",
        "\n",
        "        avg_val_loss_poc = deepcopy(val_loss_poc)\n",
        "        avg_test_loss_poc = deepcopy(test_loss_poc)\n",
        "\n",
        "        avg_val_loss_fedavg = deepcopy(val_loss_fedavg)\n",
        "        avg_test_loss_fedavg = deepcopy(test_loss_fedavg)\n",
        "\n",
        "        avg_client_accuracies_poc = [deepcopy(x) for x in client_accuracies_poc]\n",
        "        avg_client_accuracies_fedavg = [deepcopy(x) for x in client_accuracies_fedavg]\n",
        "\n",
        "        avg_train_accuracy_poc = deepcopy(train_accuracy_poc)\n",
        "        avg_train_accuracy_fedavg = deepcopy(train_accuracy_fedavg)\n",
        "\n",
        "    avg_accuracy_list_fedavg = (run * avg_accuracy_list_fedavg + accuracy_list_fedavg) / (run + 1)\n",
        "    avg_accuracy_list_poc = (run * avg_accuracy_list_poc + accuracy_list_poc) / (run + 1)\n",
        "\n",
        "    avg_val_loss_poc = (run * avg_val_loss_poc + val_loss_poc) / (run + 1)\n",
        "    avg_test_loss_poc = (run * avg_test_loss_poc + test_loss_poc) / (run + 1)\n",
        "\n",
        "    avg_val_loss_fedavg = (run * avg_val_loss_fedavg + val_loss_fedavg) / (run + 1)\n",
        "    avg_test_loss_fedavg = (run * avg_test_loss_fedavg + test_loss_fedavg) / (run + 1)\n",
        "\n",
        "    avg_client_accuracies_poc = [(run*avg_client_accuracies_poc[i] + client_accuracies_poc[i])/(run + 1) for i in range(num_clients)]\n",
        "    avg_client_accuracies_fedavg = [(run*avg_client_accuracies_fedavg[i] + client_accuracies_fedavg[i])/(run + 1) for i in range(num_clients)]\n",
        "\n",
        "    avg_train_accuracy_poc = (run*avg_train_accuracy_poc + train_accuracy_poc)/(run+1)\n",
        "    avg_train_accuracy_fedavg = (run*avg_train_accuracy_fedavg + train_accuracy_fedavg)/(run+1)\n",
        "\n",
        "\n"
      ],
      "metadata": {
        "colab": {
          "base_uri": "https://localhost:8080/"
        },
        "id": "MlglFwOLSrlf",
        "outputId": "84b54feb-8c22-448c-900e-5489193adeaa"
      },
      "execution_count": 19,
      "outputs": [
        {
          "output_type": "stream",
          "name": "stdout",
          "text": [
            "files already downloaded\n"
          ]
        },
        {
          "output_type": "stream",
          "name": "stderr",
          "text": [
            "100%|██████████| 101/101 [00:16<00:00,  6.24it/s]\n",
            "100%|██████████| 101/101 [00:12<00:00,  8.00it/s]\n"
          ]
        },
        {
          "output_type": "stream",
          "name": "stdout",
          "text": [
            "files already downloaded\n"
          ]
        },
        {
          "output_type": "stream",
          "name": "stderr",
          "text": [
            "100%|██████████| 101/101 [00:15<00:00,  6.40it/s]\n",
            "100%|██████████| 101/101 [00:12<00:00,  7.91it/s]\n"
          ]
        },
        {
          "output_type": "stream",
          "name": "stdout",
          "text": [
            "files already downloaded\n"
          ]
        },
        {
          "output_type": "stream",
          "name": "stderr",
          "text": [
            "100%|██████████| 101/101 [00:15<00:00,  6.41it/s]\n",
            "100%|██████████| 101/101 [00:13<00:00,  7.62it/s]\n"
          ]
        },
        {
          "output_type": "stream",
          "name": "stdout",
          "text": [
            "files already downloaded\n"
          ]
        },
        {
          "output_type": "stream",
          "name": "stderr",
          "text": [
            "100%|██████████| 101/101 [00:17<00:00,  5.77it/s]\n",
            "100%|██████████| 101/101 [00:12<00:00,  8.17it/s]\n"
          ]
        },
        {
          "output_type": "stream",
          "name": "stdout",
          "text": [
            "files already downloaded\n"
          ]
        },
        {
          "output_type": "stream",
          "name": "stderr",
          "text": [
            "100%|██████████| 101/101 [00:15<00:00,  6.46it/s]\n",
            "100%|██████████| 101/101 [00:11<00:00,  8.43it/s]\n"
          ]
        },
        {
          "output_type": "stream",
          "name": "stdout",
          "text": [
            "files already downloaded\n"
          ]
        },
        {
          "output_type": "stream",
          "name": "stderr",
          "text": [
            "100%|██████████| 101/101 [00:15<00:00,  6.57it/s]\n",
            "100%|██████████| 101/101 [00:11<00:00,  8.44it/s]\n"
          ]
        },
        {
          "output_type": "stream",
          "name": "stdout",
          "text": [
            "files already downloaded\n"
          ]
        },
        {
          "output_type": "stream",
          "name": "stderr",
          "text": [
            "100%|██████████| 101/101 [00:14<00:00,  6.83it/s]\n",
            "100%|██████████| 101/101 [00:11<00:00,  8.97it/s]\n"
          ]
        },
        {
          "output_type": "stream",
          "name": "stdout",
          "text": [
            "files already downloaded\n"
          ]
        },
        {
          "output_type": "stream",
          "name": "stderr",
          "text": [
            "100%|██████████| 101/101 [00:15<00:00,  6.46it/s]\n",
            "100%|██████████| 101/101 [00:11<00:00,  8.79it/s]\n"
          ]
        },
        {
          "output_type": "stream",
          "name": "stdout",
          "text": [
            "files already downloaded\n"
          ]
        },
        {
          "output_type": "stream",
          "name": "stderr",
          "text": [
            "100%|██████████| 101/101 [00:15<00:00,  6.60it/s]\n",
            "100%|██████████| 101/101 [00:10<00:00,  9.51it/s]\n"
          ]
        },
        {
          "output_type": "stream",
          "name": "stdout",
          "text": [
            "files already downloaded\n"
          ]
        },
        {
          "output_type": "stream",
          "name": "stderr",
          "text": [
            "100%|██████████| 101/101 [00:15<00:00,  6.46it/s]\n",
            "100%|██████████| 101/101 [00:11<00:00,  8.99it/s]\n"
          ]
        }
      ]
    },
    {
      "cell_type": "code",
      "source": [
        "avg_train_accuracy_fedavg - avg_accuracy_list_fedavg"
      ],
      "metadata": {
        "colab": {
          "base_uri": "https://localhost:8080/"
        },
        "id": "MxACzdZ3iUrs",
        "outputId": "1ed765c9-8228-4e81-9e48-1e3ac37689dd"
      },
      "execution_count": 14,
      "outputs": [
        {
          "output_type": "execute_result",
          "data": {
            "text/plain": [
              "array([-8.00775985e-04,  8.59538803e-03,  2.94331432e-03,  2.26746230e-03,\n",
              "        6.76697229e-03,  8.14333986e-03,  5.32489874e-03, -2.42824539e-03,\n",
              "       -6.74464599e-03, -2.18818779e-03, -6.21568038e-03, -1.70755056e-03,\n",
              "       -6.14235717e-03, -7.25063361e-03, -6.02293521e-03, -1.41845317e-03,\n",
              "       -4.22168628e-03, -2.42188384e-03, -5.22248485e-03, -1.01968302e-03,\n",
              "       -1.29935418e-03, -3.21609062e-03, -3.35671928e-03, -1.51461018e-03,\n",
              "       -2.59412543e-03, -1.84780235e-04, -7.41460804e-04, -6.17214606e-04,\n",
              "       -1.63900489e-03, -3.48787435e-03,  1.21527305e-05, -1.38592430e-03,\n",
              "       -3.17118608e-03, -1.93147564e-03, -3.18480161e-03, -2.07820350e-03,\n",
              "       -5.88147094e-04,  3.06665261e-04, -1.43999901e-03, -1.66093947e-03,\n",
              "       -7.93596499e-04, -7.57410144e-04, -1.93330040e-03, -5.97999566e-04,\n",
              "        4.33470358e-04, -7.79551038e-04, -2.37137978e-03, -3.96221924e-04,\n",
              "        1.47297760e-04, -2.34701333e-04, -2.62716835e-04, -1.05484667e-03,\n",
              "        5.50166605e-05,  1.85229184e-04, -9.47594330e-04, -1.58193716e-03,\n",
              "       -1.36153555e-03, -3.03449920e-04, -9.12918403e-04, -1.65408209e-03,\n",
              "       -1.80441847e-03,  7.89875261e-04, -7.07321162e-04, -2.49742971e-04,\n",
              "       -1.40603983e-03,  8.78618506e-05, -4.16790050e-04, -9.21814870e-04,\n",
              "       -1.71571212e-03,  3.10049600e-05, -1.29469529e-03, -5.57163404e-04,\n",
              "        1.37968353e-03,  5.00356446e-04,  7.86515804e-05, -2.58875947e-04,\n",
              "        6.00975119e-04,  6.52485330e-04,  6.79161247e-06,  1.43481065e-03,\n",
              "        1.25208035e-03,  1.69588089e-04, -9.48640435e-04,  3.12833231e-04,\n",
              "        7.84868116e-05,  4.62213834e-04, -1.16491627e-03,  1.56979171e-03,\n",
              "       -8.91194446e-04,  3.68433930e-04, -1.58418076e-04, -1.08184922e-04,\n",
              "       -1.07435281e-03, -1.17747845e-04,  6.26340243e-04,  4.59794886e-04,\n",
              "        3.06518457e-04, -9.56129658e-04, -7.50457532e-04,  6.58470801e-04,\n",
              "       -6.69148005e-05])"
            ]
          },
          "metadata": {},
          "execution_count": 14
        }
      ]
    },
    {
      "cell_type": "code",
      "source": [
        "plt.plot(avg_test_loss_poc,label='poc-test')\n",
        "plt.plot(avg_test_loss_fedavg,label='fedavg-test')\n",
        "# plt.plot(avg_val_loss_poc,label='poc-val')\n",
        "# plt.plot(avg_val_loss_fedavg,label='fedavg-val')\n",
        "plt.legend()\n",
        "plt.show()"
      ],
      "metadata": {
        "colab": {
          "base_uri": "https://localhost:8080/",
          "height": 430
        },
        "id": "IV76xJfWW9Al",
        "outputId": "f9c3bd6c-3e44-46f2-aed9-e6da2750c6ce"
      },
      "execution_count": 18,
      "outputs": [
        {
          "output_type": "display_data",
          "data": {
            "text/plain": [
              "<Figure size 640x480 with 1 Axes>"
            ],
            "image/png": "[encoded data removed]"
          },
          "metadata": {}
        }
      ]
    },
    {
      "cell_type": "markdown",
      "source": [
        "## Hyperparameter Search"
      ],
      "metadata": {
        "id": "cfJD2hdaLQfz"
      }
    },
    {
      "cell_type": "code",
      "source": [
        "\"\"\"\n",
        "Hyperparameter search starts here\n",
        "\"\"\"\n",
        "\n",
        "dirichlet_alpha = alpha\n",
        "synthetic_alpha = alpha\n",
        "synthetic_beta = beta\n",
        "\n",
        "# UCB search\n",
        "\n",
        "beta_vals = [1e-1, 1, 1e1, 1e2]\n",
        "accuracies_ucb = {}\n",
        "for beta in beta_vals:\n",
        "    accuracies_ucb[beta] = ucb_runs(beta, 3)\n",
        "\n",
        "method = \"ucb\"\n",
        "accuracies_summary = accuracies_ucb\n",
        "\n",
        "if dataset in [\"mnist\", \"cifar10\"]:\n",
        "    with open(\n",
        "        f\"./results/{method}_{dataset}_{num_clients}_{random_seed}_{dirichlet_alpha}.pickle\",\n",
        "        \"wb\",\n",
        "    ) as f:\n",
        "        pickle.dump(accuracies_summary, f)\n",
        "else:\n",
        "    with open(\n",
        "        f\"./results/{method}_{dataset}_{num_clients}_{random_seed}_{synthetic_alpha}_{synthetic_beta}.pickle\",\n",
        "        \"wb\",\n",
        "    ) as f:\n",
        "        pickle.dump(accuracies_summary, f)\n",
        "\n",
        "\n",
        "# S-FedAvg search\n",
        "\n",
        "alpha_vals = np.arange(0.1, 1, 0.2)\n",
        "beta_vals = np.arange(0.1, 1, 0.2)\n",
        "accuracies_sfedavg = {}\n",
        "for alpha in alpha_vals:\n",
        "    beta = 1 - alpha\n",
        "    accuracies_sfedavg[(alpha, beta)] = sfedavg_runs(alpha, beta, 3)\n",
        "\n",
        "method = \"sfedavg\"\n",
        "accuracies_summary = accuracies_sfedavg\n",
        "\n",
        "if dataset in [\"mnist\", \"cifar10\"]:\n",
        "    with open(\n",
        "        f\"./results/{method}_{dataset}_{num_clients}_{random_seed}_{dirichlet_alpha}.pickle\",\n",
        "        \"wb\",\n",
        "    ) as f:\n",
        "        pickle.dump(accuracies_summary, f)\n",
        "else:\n",
        "    with open(\n",
        "        f\"./results/{method}_{dataset}_{num_clients}_{random_seed}_{synthetic_alpha}_{synthetic_beta}.pickle\",\n",
        "        \"wb\",\n",
        "    ) as f:\n",
        "        pickle.dump(accuracies_summary, f)\n",
        "\n",
        "# FedAvg\n",
        "\n",
        "accuracies_fedavg = fedavg_runs(5)\n",
        "method = \"fedavg\"\n",
        "accuracies_summary = accuracies_fedavg\n",
        "\n",
        "if dataset in [\"mnist\", \"cifar10\"]:\n",
        "    with open(\n",
        "        f\"./results/{method}_{dataset}_{num_clients}_{random_seed}_{dirichlet_alpha}.pickle\",\n",
        "        \"wb\",\n",
        "    ) as f:\n",
        "        pickle.dump(accuracies_summary, f)\n",
        "else:\n",
        "    with open(\n",
        "        f\"./results/{method}_{dataset}_{num_clients}_{random_seed}_{synthetic_alpha}_{synthetic_beta}.pickle\",\n",
        "        \"wb\",\n",
        "    ) as f:\n",
        "        pickle.dump(accuracies_summary, f)\n",
        "\n",
        "# Power-of-Choice\n",
        "\n",
        "decay_factors = [1, 0.99, 0.95, 0.9, 0.8]\n",
        "accuracies_poc = {}\n",
        "for decay_factor in decay_factors:\n",
        "    accuracies_poc[decay_factor] = poc_runs(decay_factor, 3)\n",
        "\n",
        "method = \"poc\"\n",
        "accuracies_summary = accuracies_poc\n",
        "\n",
        "if dataset in [\"mnist\", \"cifar10\"]:\n",
        "    with open(\n",
        "        f\"./results/{method}_{dataset}_{num_clients}_{random_seed}_{dirichlet_alpha}.pickle\",\n",
        "        \"wb\",\n",
        "    ) as f:\n",
        "        pickle.dump(accuracies_summary, f)\n",
        "else:\n",
        "    with open(\n",
        "        f\"./results/{method}_{dataset}_{num_clients}_{random_seed}_{synthetic_alpha}_{synthetic_beta}.pickle\",\n",
        "        \"wb\",\n",
        "    ) as f:\n",
        "        pickle.dump(accuracies_summary, f)\n",
        "\n",
        "# FedProx\n",
        "\n",
        "mu_vals = [10**i for i in range(-3, 3)]\n",
        "accuracies_fedprox = {}\n",
        "for mu in mu_vals:\n",
        "    accuracies_fedprox[mu] = fedprox_runs(mu, 3)\n",
        "\n",
        "method = \"fedprox\"\n",
        "accuracies_summary = accuracies_fedprox\n",
        "\n",
        "if dataset in [\"mnist\", \"cifar10\"]:\n",
        "    with open(\n",
        "        f\"./results/{method}_{dataset}_{num_clients}_{random_seed}_{dirichlet_alpha}.pickle\",\n",
        "        \"wb\",\n",
        "    ) as f:\n",
        "        pickle.dump(accuracies_summary, f)\n",
        "else:\n",
        "    with open(\n",
        "        f\"./results/{method}_{dataset}_{num_clients}_{random_seed}_{synthetic_alpha}_{synthetic_beta}.pickle\",\n",
        "        \"wb\",\n",
        "    ) as f:\n",
        "        pickle.dump(accuracies_summary, f)\n",
        "\n",
        "\n",
        "\"\"\"\"\"\"\"\"\"\"\"\"\"\"\"\"\"\n",
        "Hyperparameter search ends here\n",
        "\"\"\"\"\"\"\"\"\"\"\"\"\"\"\"\"\"\n",
        "\n"
      ],
      "metadata": {
        "id": "ygYnzr1DJwU7"
      },
      "execution_count": null,
      "outputs": []
    },
    {
      "cell_type": "markdown",
      "source": [
        "## Extra Plotting Code"
      ],
      "metadata": {
        "id": "VDD3OeVALbHR"
      }
    },
    {
      "cell_type": "code",
      "source": [
        "\n",
        "sns.heatmap(draws_heatmap).set(title=\"draws\")\n",
        "plt.show()\n",
        "sns.heatmap(shapley_heatmap).set(title=\"shapley values\")\n",
        "plt.show()\n",
        "sns.heatmap(selection_heatmap).set(title=\"selections\")\n",
        "plt.show()\n",
        "\n",
        "plt.plot(accuracy_ucb, label=\"UCB\")\n",
        "plt.plot(accuracy_fedavg, label=\"fedavg\")\n",
        "plt.legend()\n",
        "plt.show()\n",
        "\n",
        "for i in range(5):\n",
        "    accuracy_poc, _, _ = power_of_choice_run(\n",
        "        deepcopy(clients),\n",
        "        deepcopy(server),\n",
        "        select_fraction,\n",
        "        T,\n",
        "        decay_factor=0.95,\n",
        "        random_seed=i,\n",
        "    )\n",
        "\n",
        "    accuracy_poc_nodecay, _, _ = power_of_choice_run(\n",
        "        deepcopy(clients),\n",
        "        deepcopy(server),\n",
        "        select_fraction,\n",
        "        T,\n",
        "        decay_factor=1,\n",
        "        random_seed=i,\n",
        "    )\n",
        "\n",
        "(\n",
        "    accuracy,\n",
        "    val_loss,\n",
        "    test_loss,\n",
        "    client_losses_init,\n",
        "    client_losses_final,\n",
        ") = fed_avg_run_analysis(\n",
        "    deepcopy(clients), deepcopy(server), select_fraction, T, random_seed=1\n",
        ")\n",
        "\n",
        "for i in range(5):\n",
        "    accuracy_prox, _, _ = fed_prox_run(\n",
        "        deepcopy(clients), deepcopy(server), select_fraction, T, mu=0.1, random_seed=i\n",
        "    )\n",
        "    if i == 0:\n",
        "        accuracy_avg = np.array(accuracy)\n",
        "        accuracy_prox_avg = np.array(accuracy_prox)\n",
        "        accuracy_poc_avg = np.array(accuracy_poc)\n",
        "        accuracy_poc_nodecay_avg = np.array(accuracy_poc_nodecay)\n",
        "    else:\n",
        "        accuracy_avg = accuracy_avg * (i / (i + 1)) + np.array(accuracy) * (1 / (i + 1))\n",
        "        accuracy_prox_avg = accuracy_prox_avg * (i / (i + 1)) + np.array(\n",
        "            accuracy_prox\n",
        "        ) * (1 / (i + 1))\n",
        "        accuracy_poc_avg = accuracy_poc_avg * (i / (i + 1)) + np.array(accuracy_poc) * (\n",
        "            1 / (i + 1)\n",
        "        )\n",
        "        accuracy_poc_nodecay_avg = accuracy_poc_nodecay_avg * (i / (i + 1)) + np.array(\n",
        "            accuracy_poc_nodecay\n",
        "        ) * (1 / (i + 1))\n",
        "\n"
      ],
      "metadata": {
        "id": "tyaUVnNDLdWO"
      },
      "execution_count": null,
      "outputs": []
    },
    {
      "cell_type": "code",
      "execution_count": null,
      "metadata": {
        "id": "KpljLGhfw7nz",
        "outputId": "4c56cc7a-4404-46c8-ff8d-02eaa8b2fcf3"
      },
      "outputs": [
        {
          "data": {
            "text/plain": [
              "<matplotlib.legend.Legend at 0x186b7ebbf40>"
            ]
          },
          "execution_count": 29,
          "metadata": {},
          "output_type": "execute_result"
        },
        {
          "data": {
            "image/png": "[encoded data removed]",
            "text/plain": [
              "<Figure size 640x480 with 1 Axes>"
            ]
          },
          "metadata": {},
          "output_type": "display_data"
        }
      ],
      "source": [
        "i = 10\n",
        "plt.plot(client_losses_init[i], label = 'init')\n",
        "plt.plot(client_losses_final[i], label = 'final')\n",
        "plt.ylim((0,5))\n",
        "plt.legend()"
      ]
    },
    {
      "cell_type": "code",
      "execution_count": null,
      "metadata": {
        "id": "t_cQN_aaw7n0"
      },
      "outputs": [],
      "source": [
        "plt.plot(val_loss, label=\"val loss\")\n",
        "plt.plot(test_loss, label=\"test loss\")\n",
        "for i in range(num_clients):\n",
        "    plt.plot(client_losses_init[i], label=f\"client loss init {i}\")\n",
        "\n",
        "plt.legend()\n",
        "plt.show()"
      ]
    }
  ],
  "metadata": {
    "kernelspec": {
      "display_name": "Python 3",
      "name": "python3"
    },
    "language_info": {
      "codemirror_mode": {
        "name": "ipython",
        "version": 3
      },
      "file_extension": ".py",
      "mimetype": "text/x-python",
      "name": "python",
      "nbconvert_exporter": "python",
      "pygments_lexer": "ipython3",
      "version": "3.8.16"
    },
    "orig_nbformat": 4,
    "colab": {
      "provenance": [],
      "toc_visible": true,
      "gpuType": "T4"
    },
    "accelerator": "GPU"
  },
  "nbformat": 4,
  "nbformat_minor": 0
}